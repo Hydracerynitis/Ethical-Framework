{
 "cells": [
  {
   "cell_type": "code",
   "execution_count": 1,
   "metadata": {},
   "outputs": [
    {
     "name": "stderr",
     "output_type": "stream",
     "text": [
      "C:\\Users\\15783\\AppData\\Local\\Temp\\ipykernel_10924\\606206881.py:1: DeprecationWarning: \n",
      "Pyarrow will become a required dependency of pandas in the next major release of pandas (pandas 3.0),\n",
      "(to allow more performant data types, such as the Arrow string type, and better interoperability with other libraries)\n",
      "but was not found to be installed on your system.\n",
      "If this would cause problems for you,\n",
      "please provide us feedback at https://github.com/pandas-dev/pandas/issues/54466\n",
      "        \n",
      "  import pandas\n"
     ]
    }
   ],
   "source": [
    "import pandas\n",
    "import matplotlib.pyplot as plt\n",
    "import numpy as np"
   ]
  },
  {
   "cell_type": "markdown",
   "metadata": {},
   "source": [
    "[Job Application dataset](https://www.kaggle.com/datasets/ayushtankha/70k-job-applicants-data-human-resource) is to predict whether a applying candidate will be employed based on its progamming expereince and their attributes"
   ]
  },
  {
   "cell_type": "code",
   "execution_count": 2,
   "metadata": {},
   "outputs": [
    {
     "data": {
      "text/html": [
       "<div>\n",
       "<style scoped>\n",
       "    .dataframe tbody tr th:only-of-type {\n",
       "        vertical-align: middle;\n",
       "    }\n",
       "\n",
       "    .dataframe tbody tr th {\n",
       "        vertical-align: top;\n",
       "    }\n",
       "\n",
       "    .dataframe thead th {\n",
       "        text-align: right;\n",
       "    }\n",
       "</style>\n",
       "<table border=\"1\" class=\"dataframe\">\n",
       "  <thead>\n",
       "    <tr style=\"text-align: right;\">\n",
       "      <th></th>\n",
       "      <th>Age</th>\n",
       "      <th>Accessibility</th>\n",
       "      <th>EdLevel</th>\n",
       "      <th>Employment</th>\n",
       "      <th>Gender</th>\n",
       "      <th>MentalHealth</th>\n",
       "      <th>MainBranch</th>\n",
       "      <th>YearsCode</th>\n",
       "      <th>YearsCodePro</th>\n",
       "      <th>Country</th>\n",
       "      <th>PreviousSalary</th>\n",
       "      <th>HaveWorkedWith</th>\n",
       "      <th>ComputerSkills</th>\n",
       "      <th>Employed</th>\n",
       "    </tr>\n",
       "  </thead>\n",
       "  <tbody>\n",
       "    <tr>\n",
       "      <th>0</th>\n",
       "      <td>&lt;35</td>\n",
       "      <td>No</td>\n",
       "      <td>Master</td>\n",
       "      <td>1</td>\n",
       "      <td>Man</td>\n",
       "      <td>No</td>\n",
       "      <td>Dev</td>\n",
       "      <td>7</td>\n",
       "      <td>4</td>\n",
       "      <td>Sweden</td>\n",
       "      <td>51552.0</td>\n",
       "      <td>C++;Python;Git;PostgreSQL</td>\n",
       "      <td>4</td>\n",
       "      <td>0</td>\n",
       "    </tr>\n",
       "    <tr>\n",
       "      <th>1</th>\n",
       "      <td>&lt;35</td>\n",
       "      <td>No</td>\n",
       "      <td>Undergraduate</td>\n",
       "      <td>1</td>\n",
       "      <td>Man</td>\n",
       "      <td>No</td>\n",
       "      <td>Dev</td>\n",
       "      <td>12</td>\n",
       "      <td>5</td>\n",
       "      <td>Spain</td>\n",
       "      <td>46482.0</td>\n",
       "      <td>Bash/Shell;HTML/CSS;JavaScript;Node.js;SQL;Typ...</td>\n",
       "      <td>12</td>\n",
       "      <td>1</td>\n",
       "    </tr>\n",
       "    <tr>\n",
       "      <th>2</th>\n",
       "      <td>&lt;35</td>\n",
       "      <td>No</td>\n",
       "      <td>Master</td>\n",
       "      <td>1</td>\n",
       "      <td>Man</td>\n",
       "      <td>No</td>\n",
       "      <td>Dev</td>\n",
       "      <td>15</td>\n",
       "      <td>6</td>\n",
       "      <td>Germany</td>\n",
       "      <td>77290.0</td>\n",
       "      <td>C;C++;Java;Perl;Ruby;Git;Ruby on Rails</td>\n",
       "      <td>7</td>\n",
       "      <td>0</td>\n",
       "    </tr>\n",
       "    <tr>\n",
       "      <th>3</th>\n",
       "      <td>&lt;35</td>\n",
       "      <td>No</td>\n",
       "      <td>Undergraduate</td>\n",
       "      <td>1</td>\n",
       "      <td>Man</td>\n",
       "      <td>No</td>\n",
       "      <td>Dev</td>\n",
       "      <td>9</td>\n",
       "      <td>6</td>\n",
       "      <td>Canada</td>\n",
       "      <td>46135.0</td>\n",
       "      <td>Bash/Shell;HTML/CSS;JavaScript;PHP;Ruby;SQL;Gi...</td>\n",
       "      <td>13</td>\n",
       "      <td>0</td>\n",
       "    </tr>\n",
       "    <tr>\n",
       "      <th>4</th>\n",
       "      <td>&gt;35</td>\n",
       "      <td>No</td>\n",
       "      <td>PhD</td>\n",
       "      <td>0</td>\n",
       "      <td>Man</td>\n",
       "      <td>No</td>\n",
       "      <td>NotDev</td>\n",
       "      <td>40</td>\n",
       "      <td>30</td>\n",
       "      <td>Singapore</td>\n",
       "      <td>160932.0</td>\n",
       "      <td>C++;Python</td>\n",
       "      <td>2</td>\n",
       "      <td>0</td>\n",
       "    </tr>\n",
       "    <tr>\n",
       "      <th>...</th>\n",
       "      <td>...</td>\n",
       "      <td>...</td>\n",
       "      <td>...</td>\n",
       "      <td>...</td>\n",
       "      <td>...</td>\n",
       "      <td>...</td>\n",
       "      <td>...</td>\n",
       "      <td>...</td>\n",
       "      <td>...</td>\n",
       "      <td>...</td>\n",
       "      <td>...</td>\n",
       "      <td>...</td>\n",
       "      <td>...</td>\n",
       "      <td>...</td>\n",
       "    </tr>\n",
       "    <tr>\n",
       "      <th>73457</th>\n",
       "      <td>&lt;35</td>\n",
       "      <td>No</td>\n",
       "      <td>Undergraduate</td>\n",
       "      <td>1</td>\n",
       "      <td>Man</td>\n",
       "      <td>No</td>\n",
       "      <td>Dev</td>\n",
       "      <td>7</td>\n",
       "      <td>2</td>\n",
       "      <td>Germany</td>\n",
       "      <td>41058.0</td>\n",
       "      <td>C#;HTML/CSS;JavaScript;TypeScript;Docker;Kuber...</td>\n",
       "      <td>13</td>\n",
       "      <td>1</td>\n",
       "    </tr>\n",
       "    <tr>\n",
       "      <th>73458</th>\n",
       "      <td>&gt;35</td>\n",
       "      <td>No</td>\n",
       "      <td>Undergraduate</td>\n",
       "      <td>1</td>\n",
       "      <td>Man</td>\n",
       "      <td>No</td>\n",
       "      <td>Dev</td>\n",
       "      <td>21</td>\n",
       "      <td>16</td>\n",
       "      <td>United States of America</td>\n",
       "      <td>115000.0</td>\n",
       "      <td>C#;HTML/CSS;Java;JavaScript;npm;ASP.NET Core ;...</td>\n",
       "      <td>11</td>\n",
       "      <td>1</td>\n",
       "    </tr>\n",
       "    <tr>\n",
       "      <th>73459</th>\n",
       "      <td>&lt;35</td>\n",
       "      <td>No</td>\n",
       "      <td>Undergraduate</td>\n",
       "      <td>1</td>\n",
       "      <td>Man</td>\n",
       "      <td>No</td>\n",
       "      <td>Dev</td>\n",
       "      <td>4</td>\n",
       "      <td>3</td>\n",
       "      <td>Nigeria</td>\n",
       "      <td>57720.0</td>\n",
       "      <td>HTML/CSS;JavaScript;TypeScript;Docker;Express;...</td>\n",
       "      <td>12</td>\n",
       "      <td>1</td>\n",
       "    </tr>\n",
       "    <tr>\n",
       "      <th>73460</th>\n",
       "      <td>&lt;35</td>\n",
       "      <td>Yes</td>\n",
       "      <td>Undergraduate</td>\n",
       "      <td>1</td>\n",
       "      <td>Man</td>\n",
       "      <td>Yes</td>\n",
       "      <td>Dev</td>\n",
       "      <td>5</td>\n",
       "      <td>1</td>\n",
       "      <td>United States of America</td>\n",
       "      <td>70000.0</td>\n",
       "      <td>C#;HTML/CSS;JavaScript;SQL;TypeScript;npm;Yarn...</td>\n",
       "      <td>15</td>\n",
       "      <td>1</td>\n",
       "    </tr>\n",
       "    <tr>\n",
       "      <th>73461</th>\n",
       "      <td>&lt;35</td>\n",
       "      <td>No</td>\n",
       "      <td>Master</td>\n",
       "      <td>1</td>\n",
       "      <td>NonBinary</td>\n",
       "      <td>No</td>\n",
       "      <td>Dev</td>\n",
       "      <td>10</td>\n",
       "      <td>3</td>\n",
       "      <td>United Kingdom of Great Britain and Northern I...</td>\n",
       "      <td>75384.0</td>\n",
       "      <td>Python;Docker</td>\n",
       "      <td>2</td>\n",
       "      <td>0</td>\n",
       "    </tr>\n",
       "  </tbody>\n",
       "</table>\n",
       "<p>73462 rows × 14 columns</p>\n",
       "</div>"
      ],
      "text/plain": [
       "       Age Accessibility        EdLevel  Employment     Gender MentalHealth  \\\n",
       "0      <35            No         Master           1        Man           No   \n",
       "1      <35            No  Undergraduate           1        Man           No   \n",
       "2      <35            No         Master           1        Man           No   \n",
       "3      <35            No  Undergraduate           1        Man           No   \n",
       "4      >35            No            PhD           0        Man           No   \n",
       "...    ...           ...            ...         ...        ...          ...   \n",
       "73457  <35            No  Undergraduate           1        Man           No   \n",
       "73458  >35            No  Undergraduate           1        Man           No   \n",
       "73459  <35            No  Undergraduate           1        Man           No   \n",
       "73460  <35           Yes  Undergraduate           1        Man          Yes   \n",
       "73461  <35            No         Master           1  NonBinary           No   \n",
       "\n",
       "      MainBranch  YearsCode  YearsCodePro  \\\n",
       "0            Dev          7             4   \n",
       "1            Dev         12             5   \n",
       "2            Dev         15             6   \n",
       "3            Dev          9             6   \n",
       "4         NotDev         40            30   \n",
       "...          ...        ...           ...   \n",
       "73457        Dev          7             2   \n",
       "73458        Dev         21            16   \n",
       "73459        Dev          4             3   \n",
       "73460        Dev          5             1   \n",
       "73461        Dev         10             3   \n",
       "\n",
       "                                                 Country  PreviousSalary  \\\n",
       "0                                                 Sweden         51552.0   \n",
       "1                                                  Spain         46482.0   \n",
       "2                                                Germany         77290.0   \n",
       "3                                                 Canada         46135.0   \n",
       "4                                              Singapore        160932.0   \n",
       "...                                                  ...             ...   \n",
       "73457                                            Germany         41058.0   \n",
       "73458                           United States of America        115000.0   \n",
       "73459                                            Nigeria         57720.0   \n",
       "73460                           United States of America         70000.0   \n",
       "73461  United Kingdom of Great Britain and Northern I...         75384.0   \n",
       "\n",
       "                                          HaveWorkedWith  ComputerSkills  \\\n",
       "0                              C++;Python;Git;PostgreSQL               4   \n",
       "1      Bash/Shell;HTML/CSS;JavaScript;Node.js;SQL;Typ...              12   \n",
       "2                 C;C++;Java;Perl;Ruby;Git;Ruby on Rails               7   \n",
       "3      Bash/Shell;HTML/CSS;JavaScript;PHP;Ruby;SQL;Gi...              13   \n",
       "4                                             C++;Python               2   \n",
       "...                                                  ...             ...   \n",
       "73457  C#;HTML/CSS;JavaScript;TypeScript;Docker;Kuber...              13   \n",
       "73458  C#;HTML/CSS;Java;JavaScript;npm;ASP.NET Core ;...              11   \n",
       "73459  HTML/CSS;JavaScript;TypeScript;Docker;Express;...              12   \n",
       "73460  C#;HTML/CSS;JavaScript;SQL;TypeScript;npm;Yarn...              15   \n",
       "73461                                      Python;Docker               2   \n",
       "\n",
       "       Employed  \n",
       "0             0  \n",
       "1             1  \n",
       "2             0  \n",
       "3             0  \n",
       "4             0  \n",
       "...         ...  \n",
       "73457         1  \n",
       "73458         1  \n",
       "73459         1  \n",
       "73460         1  \n",
       "73461         0  \n",
       "\n",
       "[73462 rows x 14 columns]"
      ]
     },
     "metadata": {},
     "output_type": "display_data"
    }
   ],
   "source": [
    "raw_df=pandas.read_csv(\"data.csv\",index_col=0)\n",
    "\n",
    "display(raw_df)"
   ]
  },
  {
   "cell_type": "markdown",
   "metadata": {},
   "source": [
    "Other than sex, the dataset also has following protected attributes:\n",
    "- Age (Age)"
   ]
  },
  {
   "cell_type": "code",
   "execution_count": 3,
   "metadata": {},
   "outputs": [
    {
     "name": "stdout",
     "output_type": "stream",
     "text": [
      "The dataset contains 73462 entries\n",
      "Number of duplicate entries: 4\n",
      "The dataset contains 73458 unique entries\n",
      "This datasets has 13 features\n"
     ]
    }
   ],
   "source": [
    "print(f\"The dataset contains {raw_df.shape[0]} entries\")\n",
    "print(f\"Number of duplicate entries: {raw_df.duplicated().sum()}\")\n",
    "\n",
    "df=raw_df.drop_duplicates()\n",
    "\n",
    "print(f\"The dataset contains {df.shape[0]} unique entries\")\n",
    "print(f\"This datasets has {df.shape[1]-1} features\")"
   ]
  },
  {
   "cell_type": "code",
   "execution_count": 4,
   "metadata": {},
   "outputs": [],
   "source": [
    "label_column=\"Employed\""
   ]
  },
  {
   "cell_type": "code",
   "execution_count": 5,
   "metadata": {},
   "outputs": [
    {
     "data": {
      "image/png": "[encoded data removed]",
      "text/plain": [
       "<Figure size 640x480 with 1 Axes>"
      ]
     },
     "metadata": {},
     "output_type": "display_data"
    }
   ],
   "source": [
    "label_count = df[label_column].value_counts()\n",
    "\n",
    "def autolabel(pct, allvals):\n",
    "    absolute = int(np.round(pct/100.*np.sum(allvals)))\n",
    "    return f\"{pct:.1f}%\\n({absolute:d})\"\n",
    "\n",
    "plt.pie(label_count,labels=label_count.index, autopct=lambda pct: autolabel(pct, label_count))\n",
    "plt.title(\"The distribution of label in the dataset\")\n",
    "plt.show()"
   ]
  },
  {
   "cell_type": "markdown",
   "metadata": {},
   "source": [
    "The label distribution is balanced for this dataset"
   ]
  },
  {
   "cell_type": "code",
   "execution_count": 6,
   "metadata": {},
   "outputs": [],
   "source": [
    "sex_column=\"Gender\"\n",
    "privilleged_group=\"Man\""
   ]
  },
  {
   "cell_type": "code",
   "execution_count": 7,
   "metadata": {},
   "outputs": [
    {
     "name": "stderr",
     "output_type": "stream",
     "text": [
      "C:\\Users\\15783\\AppData\\Local\\Temp\\ipykernel_10924\\3737642170.py:2: SettingWithCopyWarning: \n",
      "A value is trying to be set on a copy of a slice from a DataFrame.\n",
      "Try using .loc[row_indexer,col_indexer] = value instead\n",
      "\n",
      "See the caveats in the documentation: https://pandas.pydata.org/pandas-docs/stable/user_guide/indexing.html#returning-a-view-versus-a-copy\n",
      "  df[sex_column]=df[sex_column].replace(\"NonBinary\",\"Woman\")\n"
     ]
    }
   ],
   "source": [
    "# Unifying attributes value to male and female for simplicity sake.\n",
    "df[sex_column]=df[sex_column].replace(\"NonBinary\",\"Woman\")"
   ]
  },
  {
   "cell_type": "code",
   "execution_count": 8,
   "metadata": {},
   "outputs": [
    {
     "data": {
      "image/png": "[encoded data removed]",
      "text/plain": [
       "<Figure size 640x480 with 1 Axes>"
      ]
     },
     "metadata": {},
     "output_type": "display_data"
    }
   ],
   "source": [
    "sex_count = df[sex_column].value_counts()\n",
    "\n",
    "plt.pie(sex_count,labels=sex_count.index, autopct=lambda pct: autolabel(pct, sex_count))\n",
    "plt.title(\"The distribution of sex in the dataset\")\n",
    "plt.show()"
   ]
  },
  {
   "cell_type": "markdown",
   "metadata": {},
   "source": [
    "The distribution of protected attributes of the dataset is extremely unbalanced and heavily skewed towards privilleged groups"
   ]
  },
  {
   "cell_type": "code",
   "execution_count": 9,
   "metadata": {},
   "outputs": [
    {
     "data": {
      "image/png": "[encoded data removed]",
      "text/plain": [
       "<Figure size 1000x400 with 2 Axes>"
      ]
     },
     "metadata": {},
     "output_type": "display_data"
    }
   ],
   "source": [
    "man_df=df.loc[df[sex_column]==privilleged_group].loc[:,[sex_column,label_column]]\n",
    "woman_df=df.loc[df[sex_column]!=privilleged_group].loc[:,[sex_column,label_column]]\n",
    "\n",
    "male_label_count=man_df[label_column].value_counts()\n",
    "female_label_count=woman_df[label_column].value_counts()\n",
    "\n",
    "fig, ax=plt.subplots(1,2,figsize=(10, 4))\n",
    "ax[0].pie(male_label_count,labels=male_label_count.index, autopct=lambda pct: autolabel(pct, male_label_count))\n",
    "ax[0].set_title(\"The distribution of lables for male individuals\")\n",
    "ax[1].pie(female_label_count,labels=female_label_count.index, autopct=lambda pct: autolabel(pct, female_label_count))\n",
    "ax[1].set_title(\"The distribution of lables for female individuals\")\n",
    "plt.show()"
   ]
  },
  {
   "cell_type": "markdown",
   "metadata": {},
   "source": [
    "The label distributions of both groups are relatively the same as the overall distribution."
   ]
  }
 ],
 "metadata": {
  "kernelspec": {
   "display_name": "venv",
   "language": "python",
   "name": "python3"
  },
  "language_info": {
   "codemirror_mode": {
    "name": "ipython",
    "version": 3
   },
   "file_extension": ".py",
   "mimetype": "text/x-python",
   "name": "python",
   "nbconvert_exporter": "python",
   "pygments_lexer": "ipython3",
   "version": "3.11.6"
  },
  "orig_nbformat": 4
 },
 "nbformat": 4,
 "nbformat_minor": 2
}
