{
 "cells": [
  {
   "cell_type": "code",
   "execution_count": 1,
   "metadata": {},
   "outputs": [
    {
     "name": "stderr",
     "output_type": "stream",
     "text": [
      "C:\\Users\\15783\\AppData\\Local\\Temp\\ipykernel_41852\\635293251.py:1: DeprecationWarning: \n",
      "Pyarrow will become a required dependency of pandas in the next major release of pandas (pandas 3.0),\n",
      "(to allow more performant data types, such as the Arrow string type, and better interoperability with other libraries)\n",
      "but was not found to be installed on your system.\n",
      "If this would cause problems for you,\n",
      "please provide us feedback at https://github.com/pandas-dev/pandas/issues/54466\n",
      "        \n",
      "  import pandas\n"
     ]
    }
   ],
   "source": [
    "import pandas\n",
    "import matplotlib.pyplot as plt\n",
    "import numpy as np\n",
    "from ucimlrepo import fetch_ucirepo "
   ]
  },
  {
   "cell_type": "markdown",
   "metadata": {},
   "source": [
    "[Germen Credit dataset](https://archive.ics.uci.edu/dataset/144/statlog+german+credit+data) is to classifies people described by a set of attributes as good or bad credit risks."
   ]
  },
  {
   "cell_type": "code",
   "execution_count": 10,
   "metadata": {},
   "outputs": [
    {
     "data": {
      "text/html": [
       "<div>\n",
       "<style scoped>\n",
       "    .dataframe tbody tr th:only-of-type {\n",
       "        vertical-align: middle;\n",
       "    }\n",
       "\n",
       "    .dataframe tbody tr th {\n",
       "        vertical-align: top;\n",
       "    }\n",
       "\n",
       "    .dataframe thead th {\n",
       "        text-align: right;\n",
       "    }\n",
       "</style>\n",
       "<table border=\"1\" class=\"dataframe\">\n",
       "  <thead>\n",
       "    <tr style=\"text-align: right;\">\n",
       "      <th></th>\n",
       "      <th>name</th>\n",
       "      <th>role</th>\n",
       "      <th>type</th>\n",
       "      <th>demographic</th>\n",
       "      <th>description</th>\n",
       "      <th>units</th>\n",
       "      <th>missing_values</th>\n",
       "    </tr>\n",
       "  </thead>\n",
       "  <tbody>\n",
       "    <tr>\n",
       "      <th>0</th>\n",
       "      <td>Attribute1</td>\n",
       "      <td>Feature</td>\n",
       "      <td>Categorical</td>\n",
       "      <td>None</td>\n",
       "      <td>Status of existing checking account</td>\n",
       "      <td>None</td>\n",
       "      <td>no</td>\n",
       "    </tr>\n",
       "    <tr>\n",
       "      <th>1</th>\n",
       "      <td>Attribute2</td>\n",
       "      <td>Feature</td>\n",
       "      <td>Integer</td>\n",
       "      <td>None</td>\n",
       "      <td>Duration</td>\n",
       "      <td>months</td>\n",
       "      <td>no</td>\n",
       "    </tr>\n",
       "    <tr>\n",
       "      <th>2</th>\n",
       "      <td>Attribute3</td>\n",
       "      <td>Feature</td>\n",
       "      <td>Categorical</td>\n",
       "      <td>None</td>\n",
       "      <td>Credit history</td>\n",
       "      <td>None</td>\n",
       "      <td>no</td>\n",
       "    </tr>\n",
       "    <tr>\n",
       "      <th>3</th>\n",
       "      <td>Attribute4</td>\n",
       "      <td>Feature</td>\n",
       "      <td>Categorical</td>\n",
       "      <td>None</td>\n",
       "      <td>Purpose</td>\n",
       "      <td>None</td>\n",
       "      <td>no</td>\n",
       "    </tr>\n",
       "    <tr>\n",
       "      <th>4</th>\n",
       "      <td>Attribute5</td>\n",
       "      <td>Feature</td>\n",
       "      <td>Integer</td>\n",
       "      <td>None</td>\n",
       "      <td>Credit amount</td>\n",
       "      <td>None</td>\n",
       "      <td>no</td>\n",
       "    </tr>\n",
       "    <tr>\n",
       "      <th>5</th>\n",
       "      <td>Attribute6</td>\n",
       "      <td>Feature</td>\n",
       "      <td>Categorical</td>\n",
       "      <td>None</td>\n",
       "      <td>Savings account/bonds</td>\n",
       "      <td>None</td>\n",
       "      <td>no</td>\n",
       "    </tr>\n",
       "    <tr>\n",
       "      <th>6</th>\n",
       "      <td>Attribute7</td>\n",
       "      <td>Feature</td>\n",
       "      <td>Categorical</td>\n",
       "      <td>Other</td>\n",
       "      <td>Present employment since</td>\n",
       "      <td>None</td>\n",
       "      <td>no</td>\n",
       "    </tr>\n",
       "    <tr>\n",
       "      <th>7</th>\n",
       "      <td>Attribute8</td>\n",
       "      <td>Feature</td>\n",
       "      <td>Integer</td>\n",
       "      <td>None</td>\n",
       "      <td>Installment rate in percentage of disposable i...</td>\n",
       "      <td>None</td>\n",
       "      <td>no</td>\n",
       "    </tr>\n",
       "    <tr>\n",
       "      <th>8</th>\n",
       "      <td>Attribute9</td>\n",
       "      <td>Feature</td>\n",
       "      <td>Categorical</td>\n",
       "      <td>Marital Status</td>\n",
       "      <td>Personal status and sex</td>\n",
       "      <td>None</td>\n",
       "      <td>no</td>\n",
       "    </tr>\n",
       "    <tr>\n",
       "      <th>9</th>\n",
       "      <td>Attribute10</td>\n",
       "      <td>Feature</td>\n",
       "      <td>Categorical</td>\n",
       "      <td>None</td>\n",
       "      <td>Other debtors / guarantors</td>\n",
       "      <td>None</td>\n",
       "      <td>no</td>\n",
       "    </tr>\n",
       "    <tr>\n",
       "      <th>10</th>\n",
       "      <td>Attribute11</td>\n",
       "      <td>Feature</td>\n",
       "      <td>Integer</td>\n",
       "      <td>None</td>\n",
       "      <td>Present residence since</td>\n",
       "      <td>None</td>\n",
       "      <td>no</td>\n",
       "    </tr>\n",
       "    <tr>\n",
       "      <th>11</th>\n",
       "      <td>Attribute12</td>\n",
       "      <td>Feature</td>\n",
       "      <td>Categorical</td>\n",
       "      <td>None</td>\n",
       "      <td>Property</td>\n",
       "      <td>None</td>\n",
       "      <td>no</td>\n",
       "    </tr>\n",
       "    <tr>\n",
       "      <th>12</th>\n",
       "      <td>Attribute13</td>\n",
       "      <td>Feature</td>\n",
       "      <td>Integer</td>\n",
       "      <td>Age</td>\n",
       "      <td>Age</td>\n",
       "      <td>years</td>\n",
       "      <td>no</td>\n",
       "    </tr>\n",
       "    <tr>\n",
       "      <th>13</th>\n",
       "      <td>Attribute14</td>\n",
       "      <td>Feature</td>\n",
       "      <td>Categorical</td>\n",
       "      <td>None</td>\n",
       "      <td>Other installment plans</td>\n",
       "      <td>None</td>\n",
       "      <td>no</td>\n",
       "    </tr>\n",
       "    <tr>\n",
       "      <th>14</th>\n",
       "      <td>Attribute15</td>\n",
       "      <td>Feature</td>\n",
       "      <td>Categorical</td>\n",
       "      <td>Other</td>\n",
       "      <td>Housing</td>\n",
       "      <td>None</td>\n",
       "      <td>no</td>\n",
       "    </tr>\n",
       "    <tr>\n",
       "      <th>15</th>\n",
       "      <td>Attribute16</td>\n",
       "      <td>Feature</td>\n",
       "      <td>Integer</td>\n",
       "      <td>None</td>\n",
       "      <td>Number of existing credits at this bank</td>\n",
       "      <td>None</td>\n",
       "      <td>no</td>\n",
       "    </tr>\n",
       "    <tr>\n",
       "      <th>16</th>\n",
       "      <td>Attribute17</td>\n",
       "      <td>Feature</td>\n",
       "      <td>Categorical</td>\n",
       "      <td>Occupation</td>\n",
       "      <td>Job</td>\n",
       "      <td>None</td>\n",
       "      <td>no</td>\n",
       "    </tr>\n",
       "    <tr>\n",
       "      <th>17</th>\n",
       "      <td>Attribute18</td>\n",
       "      <td>Feature</td>\n",
       "      <td>Integer</td>\n",
       "      <td>None</td>\n",
       "      <td>Number of people being liable to provide maint...</td>\n",
       "      <td>None</td>\n",
       "      <td>no</td>\n",
       "    </tr>\n",
       "    <tr>\n",
       "      <th>18</th>\n",
       "      <td>Attribute19</td>\n",
       "      <td>Feature</td>\n",
       "      <td>Binary</td>\n",
       "      <td>None</td>\n",
       "      <td>Telephone</td>\n",
       "      <td>None</td>\n",
       "      <td>no</td>\n",
       "    </tr>\n",
       "    <tr>\n",
       "      <th>19</th>\n",
       "      <td>Attribute20</td>\n",
       "      <td>Feature</td>\n",
       "      <td>Binary</td>\n",
       "      <td>Other</td>\n",
       "      <td>foreign worker</td>\n",
       "      <td>None</td>\n",
       "      <td>no</td>\n",
       "    </tr>\n",
       "    <tr>\n",
       "      <th>20</th>\n",
       "      <td>class</td>\n",
       "      <td>Target</td>\n",
       "      <td>Binary</td>\n",
       "      <td>None</td>\n",
       "      <td>1 = Good, 2 = Bad</td>\n",
       "      <td>None</td>\n",
       "      <td>no</td>\n",
       "    </tr>\n",
       "  </tbody>\n",
       "</table>\n",
       "</div>"
      ],
      "text/plain": [
       "           name     role         type     demographic  \\\n",
       "0    Attribute1  Feature  Categorical            None   \n",
       "1    Attribute2  Feature      Integer            None   \n",
       "2    Attribute3  Feature  Categorical            None   \n",
       "3    Attribute4  Feature  Categorical            None   \n",
       "4    Attribute5  Feature      Integer            None   \n",
       "5    Attribute6  Feature  Categorical            None   \n",
       "6    Attribute7  Feature  Categorical           Other   \n",
       "7    Attribute8  Feature      Integer            None   \n",
       "8    Attribute9  Feature  Categorical  Marital Status   \n",
       "9   Attribute10  Feature  Categorical            None   \n",
       "10  Attribute11  Feature      Integer            None   \n",
       "11  Attribute12  Feature  Categorical            None   \n",
       "12  Attribute13  Feature      Integer             Age   \n",
       "13  Attribute14  Feature  Categorical            None   \n",
       "14  Attribute15  Feature  Categorical           Other   \n",
       "15  Attribute16  Feature      Integer            None   \n",
       "16  Attribute17  Feature  Categorical      Occupation   \n",
       "17  Attribute18  Feature      Integer            None   \n",
       "18  Attribute19  Feature       Binary            None   \n",
       "19  Attribute20  Feature       Binary           Other   \n",
       "20        class   Target       Binary            None   \n",
       "\n",
       "                                          description   units missing_values  \n",
       "0                 Status of existing checking account    None             no  \n",
       "1                                            Duration  months             no  \n",
       "2                                      Credit history    None             no  \n",
       "3                                             Purpose    None             no  \n",
       "4                                       Credit amount    None             no  \n",
       "5                               Savings account/bonds    None             no  \n",
       "6                            Present employment since    None             no  \n",
       "7   Installment rate in percentage of disposable i...    None             no  \n",
       "8                             Personal status and sex    None             no  \n",
       "9                          Other debtors / guarantors    None             no  \n",
       "10                            Present residence since    None             no  \n",
       "11                                           Property    None             no  \n",
       "12                                                Age   years             no  \n",
       "13                            Other installment plans    None             no  \n",
       "14                                            Housing    None             no  \n",
       "15            Number of existing credits at this bank    None             no  \n",
       "16                                                Job    None             no  \n",
       "17  Number of people being liable to provide maint...    None             no  \n",
       "18                                          Telephone    None             no  \n",
       "19                                     foreign worker    None             no  \n",
       "20                                  1 = Good, 2 = Bad    None             no  "
      ]
     },
     "metadata": {},
     "output_type": "display_data"
    }
   ],
   "source": [
    "# fetch dataset \n",
    "german = fetch_ucirepo(id=144) \n",
    "\n",
    "raw_df=pandas.DataFrame(german.data.original)\n",
    "\n",
    "display(german.variables)"
   ]
  },
  {
   "cell_type": "markdown",
   "metadata": {},
   "source": [
    "Other than sex, the dataset also has following protected attributes:\n",
    "- Age (Attribute13)"
   ]
  },
  {
   "cell_type": "code",
   "execution_count": 4,
   "metadata": {},
   "outputs": [
    {
     "name": "stdout",
     "output_type": "stream",
     "text": [
      "The dataset contains 1000 entries\n",
      "Number of duplicate entries: 0\n",
      "The dataset contains 1000 unique entries\n",
      "This datasets has 20 features\n"
     ]
    }
   ],
   "source": [
    "print(f\"The dataset contains {raw_df.shape[0]} entries\")\n",
    "print(f\"Number of duplicate entries: {raw_df.duplicated().sum()}\")\n",
    "\n",
    "df=raw_df.drop_duplicates()\n",
    "\n",
    "print(f\"The dataset contains {df.shape[0]} unique entries\")\n",
    "print(f\"This datasets has {df.shape[1]-1} features\")"
   ]
  },
  {
   "cell_type": "code",
   "execution_count": null,
   "metadata": {},
   "outputs": [],
   "source": [
    "label_column=\"class\""
   ]
  },
  {
   "cell_type": "code",
   "execution_count": 11,
   "metadata": {},
   "outputs": [
    {
     "data": {
      "image/png": "[encoded data removed]",
      "text/plain": [
       "<Figure size 640x480 with 1 Axes>"
      ]
     },
     "metadata": {},
     "output_type": "display_data"
    }
   ],
   "source": [
    "label_count = df[label_column].value_counts()\n",
    "\n",
    "def autolabel(pct, allvals):\n",
    "    absolute = int(np.round(pct/100.*np.sum(allvals)))\n",
    "    return f\"{pct:.1f}%\\n({absolute:d})\"\n",
    "\n",
    "plt.pie(label_count,labels=label_count.index, autopct=lambda pct: autolabel(pct, label_count))\n",
    "plt.title(\"The distribution of label in the dataset\")\n",
    "plt.show()"
   ]
  },
  {
   "cell_type": "markdown",
   "metadata": {},
   "source": [
    "The label is imbalanced, with positive dominating the dataset. (1 is positive, 2 is negative according to dataset schema)"
   ]
  },
  {
   "cell_type": "code",
   "execution_count": 6,
   "metadata": {},
   "outputs": [],
   "source": [
    "sex_column=\"Attribute9\"\n",
    "privilleged_group=\"male\""
   ]
  },
  {
   "cell_type": "markdown",
   "metadata": {},
   "source": [
    "The analysis of protected variable sex"
   ]
  },
  {
   "cell_type": "code",
   "execution_count": 7,
   "metadata": {},
   "outputs": [],
   "source": [
    "# Unifying attributes value to male and female for simplicity sake.\n",
    "df[sex_column]=df[sex_column].replace([\"A91\",\"A92\",\"A93\",\"A94\",\"A95\"],[\"male\",\"female\",\"male\",\"male\",\"female\"])"
   ]
  },
  {
   "cell_type": "code",
   "execution_count": 8,
   "metadata": {},
   "outputs": [
    {
     "data": {
      "image/png": "[encoded data removed]",
      "text/plain": [
       "<Figure size 640x480 with 1 Axes>"
      ]
     },
     "metadata": {},
     "output_type": "display_data"
    }
   ],
   "source": [
    "sex_count = df[sex_column].value_counts()\n",
    "\n",
    "plt.pie(sex_count,labels=sex_count.index, autopct=lambda pct: autolabel(pct, sex_count))\n",
    "plt.title(\"The distribution of sex in the dataset\")\n",
    "plt.show()"
   ]
  },
  {
   "cell_type": "markdown",
   "metadata": {},
   "source": [
    "The distribution of protected attribute of dataset skews towards privilleged groups"
   ]
  },
  {
   "cell_type": "code",
   "execution_count": 9,
   "metadata": {},
   "outputs": [
    {
     "data": {
      "image/png": "[encoded data removed]",
      "text/plain": [
       "<Figure size 1000x400 with 2 Axes>"
      ]
     },
     "metadata": {},
     "output_type": "display_data"
    }
   ],
   "source": [
    "man_df=df.loc[df[sex_column]==privilleged_group].loc[:,[sex_column,label_column]]\n",
    "woman_df=df.loc[df[sex_column]!=privilleged_group].loc[:,[sex_column,label_column]]\n",
    "\n",
    "male_label_count=man_df[label_column].value_counts()\n",
    "female_label_count=woman_df[label_column].value_counts()\n",
    "\n",
    "fig, ax=plt.subplots(1,2,figsize=(10, 4))\n",
    "ax[0].pie(male_label_count,labels=male_label_count.index, autopct=lambda pct: autolabel(pct, male_label_count))\n",
    "ax[0].set_title(\"The distribution of lables for male individuals\")\n",
    "ax[1].pie(female_label_count,labels=female_label_count.index, autopct=lambda pct: autolabel(pct, female_label_count))\n",
    "ax[1].set_title(\"The distribution of lables for female individuals\")\n",
    "plt.show()"
   ]
  },
  {
   "cell_type": "markdown",
   "metadata": {},
   "source": [
    "Regarding this protected varaible, the dataset is dominated by Male.\n",
    "\n",
    "However, the label distribution are similar for both protected groups and privilleged grousp compared to overral distribution."
   ]
  }
 ],
 "metadata": {
  "kernelspec": {
   "display_name": "venv",
   "language": "python",
   "name": "python3"
  },
  "language_info": {
   "codemirror_mode": {
    "name": "ipython",
    "version": 3
   },
   "file_extension": ".py",
   "mimetype": "text/x-python",
   "name": "python",
   "nbconvert_exporter": "python",
   "pygments_lexer": "ipython3",
   "version": "3.11.6"
  },
  "orig_nbformat": 4
 },
 "nbformat": 4,
 "nbformat_minor": 2
}
