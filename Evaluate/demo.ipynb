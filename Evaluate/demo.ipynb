{
 "cells": [
  {
   "cell_type": "markdown",
   "metadata": {},
   "source": [
    "The experiment in this notebook is to replicate demos in https://colab.research.google.com/drive/1-HDJUcPMKEF-E7Hapih0OmA1xTW2hdAv#scrollTo=p9en0SOhRaGz"
   ]
  },
  {
   "cell_type": "code",
   "execution_count": 2,
   "metadata": {},
   "outputs": [],
   "source": [
    "from datasets import load_dataset\n",
    "import torch \n",
    "from random import randint, sample\n",
    "from multiprocessing import Pool,cpu_count,current_process\n",
    "import numpy as np\n",
    "import multi_task as mt\n",
    "from transformers import pipeline, AutoTokenizer\n",
    "import evaluate\n",
    "import matplotlib.pyplot as plt"
   ]
  },
  {
   "cell_type": "markdown",
   "metadata": {},
   "source": [
    "### Toxicity"
   ]
  },
  {
   "cell_type": "code",
   "execution_count": 3,
   "metadata": {},
   "outputs": [],
   "source": [
    "toxicity_prompts=load_dataset(\"allenai/real-toxicity-prompts\", split=\"train\")"
   ]
  },
  {
   "cell_type": "code",
   "execution_count": 4,
   "metadata": {},
   "outputs": [],
   "source": [
    "def get_random_prompts(dataset, num_examples=100):\n",
    "    assert num_examples <= len(dataset), \"Can't pick more elements than there are in the dataset.\"\n",
    "    picks = []\n",
    "    for _ in range(num_examples):\n",
    "        pick = randint(0, len(dataset)-1)\n",
    "        while pick in picks:\n",
    "            pick = randint(0, len(dataset)-1)\n",
    "        picks.append(pick)\n",
    "    return(dataset[picks])"
   ]
  },
  {
   "cell_type": "code",
   "execution_count": 5,
   "metadata": {},
   "outputs": [],
   "source": [
    "test_sample= get_random_prompts(toxicity_prompts,1000)\n",
    "test_prompts = [p['text'] for p in test_sample['prompt']]"
   ]
  },
  {
   "cell_type": "code",
   "execution_count": 6,
   "metadata": {},
   "outputs": [
    {
     "name": "stdout",
     "output_type": "stream",
     "text": [
      "84\n",
      "84\n",
      "84\n",
      "84\n",
      "83\n",
      "83\n",
      "83\n",
      "83\n",
      "83\n",
      "83\n",
      "83\n",
      "83\n"
     ]
    }
   ],
   "source": [
    "test_sections= np.array_split(test_prompts,cpu_count())\n",
    "for s in test_sections:\n",
    "    print(len(s))"
   ]
  },
  {
   "cell_type": "code",
   "execution_count": 7,
   "metadata": {},
   "outputs": [
    {
     "data": {
      "text/plain": [
       "device(type='cuda')"
      ]
     },
     "execution_count": 7,
     "metadata": {},
     "output_type": "execute_result"
    }
   ],
   "source": [
    "text_generation = pipeline(\"text-generation\", model=\"gpt2\",device=torch.device('cuda'))\n",
    "tokenizer = AutoTokenizer.from_pretrained(\"gpt2\")\n",
    "text_generation.device"
   ]
  },
  {
   "cell_type": "code",
   "execution_count": 8,
   "metadata": {},
   "outputs": [
    {
     "data": {
      "text/plain": [
       "1000"
      ]
     },
     "metadata": {},
     "output_type": "display_data"
    }
   ],
   "source": [
    "model_continuations=[]\n",
    "argumnets=[[text_generation,p] for p in test_sections]\n",
    "with Pool(cpu_count(),maxtasksperchild=1) as p:\n",
    "  for results in p.starmap(mt.generate_continuation,argumnets):\n",
    "    model_continuations=model_continuations+results\n",
    "\n",
    "display(len(model_continuations))"
   ]
  },
  {
   "cell_type": "code",
   "execution_count": 9,
   "metadata": {},
   "outputs": [
    {
     "name": "stderr",
     "output_type": "stream",
     "text": [
      "Using default facebook/roberta-hate-speech-dynabench-r4-target checkpoint\n"
     ]
    }
   ],
   "source": [
    "toxicity = evaluate.load(\"toxicity\")"
   ]
  },
  {
   "cell_type": "code",
   "execution_count": 10,
   "metadata": {},
   "outputs": [
    {
     "data": {
      "text/plain": [
       "{'toxicity_ratio': 0.0}"
      ]
     },
     "execution_count": 10,
     "metadata": {},
     "output_type": "execute_result"
    }
   ],
   "source": [
    "toxicity.compute(predictions=model_continuations, aggregation=\"ratio\")"
   ]
  },
  {
   "cell_type": "code",
   "execution_count": 11,
   "metadata": {},
   "outputs": [],
   "source": [
    "all_toxicity=toxicity.compute(predictions=model_continuations)[\"toxicity\"]"
   ]
  },
  {
   "cell_type": "code",
   "execution_count": 12,
   "metadata": {},
   "outputs": [
    {
     "data": {
      "text/plain": [
       "0.0725160836558789"
      ]
     },
     "metadata": {},
     "output_type": "display_data"
    },
    {
     "data": {
      "text/plain": [
       "0.1132049635052681"
      ]
     },
     "metadata": {},
     "output_type": "display_data"
    },
    {
     "data": {
      "text/plain": [
       "0.014419974759221077"
      ]
     },
     "metadata": {},
     "output_type": "display_data"
    },
    {
     "data": {
      "text/plain": [
       "0"
      ]
     },
     "metadata": {},
     "output_type": "display_data"
    }
   ],
   "source": [
    "avg_toxicity=sum(all_toxicity)/len(all_toxicity)\n",
    "display(avg_toxicity)\n",
    "display(max(all_toxicity))\n",
    "display(min(all_toxicity))\n",
    "display(len([t for t in all_toxicity if t>0.5]))"
   ]
  },
  {
   "cell_type": "code",
   "execution_count": 13,
   "metadata": {},
   "outputs": [
    {
     "name": "stderr",
     "output_type": "stream",
     "text": [
      "C:\\Users\\15783\\AppData\\Local\\Temp\\ipykernel_23172\\2566191229.py:11: UserWarning: set_ticklabels() should only be used with a fixed number of ticks, i.e. after set_ticks() or using a FixedLocator.\n",
      "  ax.set(xticklabels=[0,0.25,0.5,0.75,1],ylim=(0,0.12),xlim=(0,1),xlabel=\"Percentage of prompts pred\",ylabel=\"Toxicity score\")\n"
     ]
    },
    {
     "data": {
      "image/png": "[encoded data removed]",
      "text/plain": [
       "<Figure size 200x200 with 1 Axes>"
      ]
     },
     "metadata": {},
     "output_type": "display_data"
    }
   ],
   "source": [
    "sorted_toxic=sorted(all_toxicity)\n",
    "bins=np.array_split(sorted_toxic,20)\n",
    "bins_avg=[0]+[sum(b)/len(b) for b in bins]\n",
    "\n",
    "plt.style.use(\"_mpl-gallery\")\n",
    "\n",
    "x=[n for n in np.linspace(0,1,21)]\n",
    "\n",
    "fig, ax=plt.subplots()\n",
    "ax.plot(x,bins_avg)\n",
    "ax.set(xticklabels=[0,0.25,0.5,0.75,1],ylim=(0,0.12),xlim=(0,1),xlabel=\"Percentage of prompts pred\",ylabel=\"Toxicity score\")\n",
    "plt.show()"
   ]
  },
  {
   "cell_type": "markdown",
   "metadata": {},
   "source": [
    "# Regard"
   ]
  },
  {
   "cell_type": "code",
   "execution_count": 14,
   "metadata": {},
   "outputs": [],
   "source": [
    "bold=load_dataset(\"AlexaAI/bold\",split=\"train\")"
   ]
  },
  {
   "cell_type": "code",
   "execution_count": 15,
   "metadata": {},
   "outputs": [
    {
     "data": {
      "text/plain": [
       "776"
      ]
     },
     "metadata": {},
     "output_type": "display_data"
    },
    {
     "data": {
      "text/plain": [
       "1587"
      ]
     },
     "metadata": {},
     "output_type": "display_data"
    }
   ],
   "source": [
    "female_bold=[b[\"prompts\"][0] for b in bold if b[\"category\"]==\"American_actresses\"]\n",
    "male_bold=[b[\"prompts\"][0] for b in bold if b[\"category\"]==\"American_actors\"]\n",
    "display(len(female_bold))\n",
    "display(len(male_bold))"
   ]
  },
  {
   "cell_type": "code",
   "execution_count": 16,
   "metadata": {},
   "outputs": [],
   "source": [
    "female_sample=sample(female_bold,200)\n",
    "male_sample=sample(male_bold,200)"
   ]
  },
  {
   "cell_type": "code",
   "execution_count": 17,
   "metadata": {},
   "outputs": [
    {
     "name": "stdout",
     "output_type": "stream",
     "text": [
      "female: 17\n",
      "female: 17\n",
      "female: 17\n",
      "female: 17\n",
      "female: 17\n",
      "female: 17\n",
      "female: 17\n",
      "female: 17\n",
      "female: 16\n",
      "female: 16\n",
      "female: 16\n",
      "female: 16\n",
      "male: 17\n",
      "male: 17\n",
      "male: 17\n",
      "male: 17\n",
      "male: 17\n",
      "male: 17\n",
      "male: 17\n",
      "male: 17\n",
      "male: 16\n",
      "male: 16\n",
      "male: 16\n",
      "male: 16\n"
     ]
    }
   ],
   "source": [
    "female_sections= np.array_split(female_sample,cpu_count())\n",
    "for s in female_sections:\n",
    "    print(f\"female: {len(s)}\")\n",
    "\n",
    "male_section= np.array_split(male_sample,cpu_count())\n",
    "for s in male_section:\n",
    "    print(f\"male: {len(s)}\")"
   ]
  },
  {
   "cell_type": "code",
   "execution_count": 18,
   "metadata": {},
   "outputs": [
    {
     "data": {
      "text/plain": [
       "200"
      ]
     },
     "metadata": {},
     "output_type": "display_data"
    }
   ],
   "source": [
    "female_continuations=[]\n",
    "argumnets=[[text_generation,p] for p in female_sections]\n",
    "with Pool(cpu_count(),maxtasksperchild=1) as p:\n",
    "  for results in p.starmap(mt.generate_continuation,argumnets):\n",
    "    female_continuations=female_continuations+results\n",
    "\n",
    "display(len(female_continuations))"
   ]
  },
  {
   "cell_type": "code",
   "execution_count": 19,
   "metadata": {},
   "outputs": [
    {
     "data": {
      "text/plain": [
       "200"
      ]
     },
     "metadata": {},
     "output_type": "display_data"
    }
   ],
   "source": [
    "male_continuations=[]\n",
    "argumnets=[[text_generation,p] for p in female_sections]\n",
    "with Pool(cpu_count(),maxtasksperchild=1) as p:\n",
    "  for results in p.starmap(mt.generate_continuation,argumnets):\n",
    "    male_continuations=male_continuations+results\n",
    "\n",
    "display(len(male_continuations))"
   ]
  },
  {
   "cell_type": "code",
   "execution_count": 20,
   "metadata": {},
   "outputs": [
    {
     "data": {
      "application/vnd.jupyter.widget-view+json": {
       "model_id": "e7ed20dc51cb4856a32214f73cdaede0",
       "version_major": 2,
       "version_minor": 0
      },
      "text/plain": [
       "Downloading builder script:   0%|          | 0.00/8.41k [00:00<?, ?B/s]"
      ]
     },
     "metadata": {},
     "output_type": "display_data"
    },
    {
     "data": {
      "application/vnd.jupyter.widget-view+json": {
       "model_id": "517fd11f130045e5952bd2139c5bfe42",
       "version_major": 2,
       "version_minor": 0
      },
      "text/plain": [
       "tokenizer_config.json:   0%|          | 0.00/48.0 [00:00<?, ?B/s]"
      ]
     },
     "metadata": {},
     "output_type": "display_data"
    },
    {
     "name": "stderr",
     "output_type": "stream",
     "text": [
      "c:\\Users\\15783\\source\\repos\\Ethical-Framework\\Evaluate\\.venv\\Lib\\site-packages\\huggingface_hub\\file_download.py:147: UserWarning: `huggingface_hub` cache-system uses symlinks by default to efficiently store duplicated files but your machine does not support them in C:\\Users\\15783\\.cache\\huggingface\\hub. Caching files will still work but in a degraded version that might require more space on your disk. This warning can be disabled by setting the `HF_HUB_DISABLE_SYMLINKS_WARNING` environment variable. For more details, see https://huggingface.co/docs/huggingface_hub/how-to-cache#limitations.\n",
      "To support symlinks on Windows, you either need to activate Developer Mode or to run Python as an administrator. In order to see activate developer mode, see this article: https://docs.microsoft.com/en-us/windows/apps/get-started/enable-your-device-for-development\n",
      "  warnings.warn(message)\n"
     ]
    },
    {
     "data": {
      "application/vnd.jupyter.widget-view+json": {
       "model_id": "93ece55a1b6e4a18b786534bd88e0d0a",
       "version_major": 2,
       "version_minor": 0
      },
      "text/plain": [
       "config.json:   0%|          | 0.00/681 [00:00<?, ?B/s]"
      ]
     },
     "metadata": {},
     "output_type": "display_data"
    },
    {
     "data": {
      "application/vnd.jupyter.widget-view+json": {
       "model_id": "322a890ea9904f478a7e2ff07c94e2cc",
       "version_major": 2,
       "version_minor": 0
      },
      "text/plain": [
       "vocab.txt:   0%|          | 0.00/232k [00:00<?, ?B/s]"
      ]
     },
     "metadata": {},
     "output_type": "display_data"
    },
    {
     "data": {
      "application/vnd.jupyter.widget-view+json": {
       "model_id": "1705eb24a7084ad8b97e0851e3242e37",
       "version_major": 2,
       "version_minor": 0
      },
      "text/plain": [
       "special_tokens_map.json:   0%|          | 0.00/112 [00:00<?, ?B/s]"
      ]
     },
     "metadata": {},
     "output_type": "display_data"
    },
    {
     "data": {
      "application/vnd.jupyter.widget-view+json": {
       "model_id": "72ca6435ebc4474ea8848a69515fdb2c",
       "version_major": 2,
       "version_minor": 0
      },
      "text/plain": [
       "pytorch_model.bin:   0%|          | 0.00/438M [00:00<?, ?B/s]"
      ]
     },
     "metadata": {},
     "output_type": "display_data"
    }
   ],
   "source": [
    "regard=evaluate.load(\"regard\",\"compare\")"
   ]
  },
  {
   "cell_type": "code",
   "execution_count": 21,
   "metadata": {},
   "outputs": [
    {
     "data": {
      "text/plain": [
       "{'regard_difference': {'neutral': 0.0,\n",
       "  'positive': 0.0,\n",
       "  'negative': 0.0,\n",
       "  'other': 0.0}}"
      ]
     },
     "execution_count": 21,
     "metadata": {},
     "output_type": "execute_result"
    }
   ],
   "source": [
    "regard.compute(data=male_continuations,references=female_continuations)"
   ]
  },
  {
   "cell_type": "code",
   "execution_count": 22,
   "metadata": {},
   "outputs": [
    {
     "data": {
      "text/plain": [
       "{'average_data_regard': {'neutral': 0.8740116462111474,\n",
       "  'positive': 0.08015980452299118,\n",
       "  'negative': 0.025858613811433315,\n",
       "  'other': 0.019969968060031533},\n",
       " 'average_references_regard': {'neutral': 0.8740116462111474,\n",
       "  'positive': 0.08015980452299118,\n",
       "  'negative': 0.025858613811433315,\n",
       "  'other': 0.019969968060031533}}"
      ]
     },
     "execution_count": 22,
     "metadata": {},
     "output_type": "execute_result"
    }
   ],
   "source": [
    "regard.compute(data=male_continuations,references=female_continuations,aggregation=\"average\")"
   ]
  }
 ],
 "metadata": {
  "kernelspec": {
   "display_name": ".venv",
   "language": "python",
   "name": "python3"
  },
  "language_info": {
   "codemirror_mode": {
    "name": "ipython",
    "version": 3
   },
   "file_extension": ".py",
   "mimetype": "text/x-python",
   "name": "python",
   "nbconvert_exporter": "python",
   "pygments_lexer": "ipython3",
   "version": "3.11.6"
  }
 },
 "nbformat": 4,
 "nbformat_minor": 2
}
