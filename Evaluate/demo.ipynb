{
 "cells": [
  {
   "cell_type": "markdown",
   "metadata": {},
   "source": [
    "The experiment in this notebook is to replicate demos in https://colab.research.google.com/drive/1-HDJUcPMKEF-E7Hapih0OmA1xTW2hdAv#scrollTo=p9en0SOhRaGz"
   ]
  },
  {
   "cell_type": "code",
   "execution_count": 1,
   "metadata": {},
   "outputs": [],
   "source": [
    "from datasets import load_dataset\n",
    "import torch \n",
    "from random import randint, sample\n",
    "from multiprocessing import Pool,cpu_count,current_process\n",
    "import numpy as np\n",
    "import multi_task as mt\n",
    "from transformers import pipeline, AutoTokenizer\n",
    "import evaluate\n",
    "import matplotlib.pyplot as plt"
   ]
  },
  {
   "cell_type": "markdown",
   "metadata": {},
   "source": [
    "### Toxicity"
   ]
  },
  {
   "cell_type": "code",
   "execution_count": 2,
   "metadata": {},
   "outputs": [],
   "source": [
    "toxicity_prompts=load_dataset(\"allenai/real-toxicity-prompts\", split=\"train\")"
   ]
  },
  {
   "cell_type": "code",
   "execution_count": 3,
   "metadata": {},
   "outputs": [],
   "source": [
    "def get_random_prompts(dataset, num_examples=100):\n",
    "    assert num_examples <= len(dataset), \"Can't pick more elements than there are in the dataset.\"\n",
    "    picks = []\n",
    "    for _ in range(num_examples):\n",
    "        pick = randint(0, len(dataset)-1)\n",
    "        while pick in picks:\n",
    "            pick = randint(0, len(dataset)-1)\n",
    "        picks.append(pick)\n",
    "    return(dataset[picks])"
   ]
  },
  {
   "cell_type": "code",
   "execution_count": 4,
   "metadata": {},
   "outputs": [],
   "source": [
    "test_sample= get_random_prompts(toxicity_prompts,1000)\n",
    "test_prompts = [p['text'] for p in test_sample['prompt']]"
   ]
  },
  {
   "cell_type": "code",
   "execution_count": 5,
   "metadata": {},
   "outputs": [
    {
     "name": "stdout",
     "output_type": "stream",
     "text": [
      "84\n",
      "84\n",
      "84\n",
      "84\n",
      "83\n",
      "83\n",
      "83\n",
      "83\n",
      "83\n",
      "83\n",
      "83\n",
      "83\n"
     ]
    }
   ],
   "source": [
    "test_sections= np.array_split(test_prompts,cpu_count())\n",
    "for s in test_sections:\n",
    "    print(len(s))"
   ]
  },
  {
   "cell_type": "code",
   "execution_count": 4,
   "metadata": {},
   "outputs": [
    {
     "data": {
      "text/plain": [
       "device(type='cuda')"
      ]
     },
     "execution_count": 4,
     "metadata": {},
     "output_type": "execute_result"
    }
   ],
   "source": [
    "text_generation = pipeline(\"text-generation\", model=\"gpt2\",device=torch.device('cuda'))\n",
    "tokenizer = AutoTokenizer.from_pretrained(\"gpt2\")\n",
    "text_generation.device"
   ]
  },
  {
   "cell_type": "code",
   "execution_count": 7,
   "metadata": {},
   "outputs": [
    {
     "data": {
      "text/plain": [
       "1000"
      ]
     },
     "metadata": {},
     "output_type": "display_data"
    }
   ],
   "source": [
    "model_continuations=[]\n",
    "argumnets=[[text_generation,p] for p in test_sections]\n",
    "with Pool(cpu_count(),maxtasksperchild=1) as p:\n",
    "  for results in p.starmap(mt.generate_continuation,argumnets):\n",
    "    model_continuations=model_continuations+results\n",
    "\n",
    "display(len(model_continuations))"
   ]
  },
  {
   "cell_type": "code",
   "execution_count": 8,
   "metadata": {},
   "outputs": [
    {
     "name": "stderr",
     "output_type": "stream",
     "text": [
      "Using default facebook/roberta-hate-speech-dynabench-r4-target checkpoint\n"
     ]
    }
   ],
   "source": [
    "toxicity = evaluate.load(\"toxicity\")"
   ]
  },
  {
   "cell_type": "code",
   "execution_count": 9,
   "metadata": {},
   "outputs": [
    {
     "data": {
      "text/plain": [
       "{'toxicity_ratio': 0.0}"
      ]
     },
     "execution_count": 9,
     "metadata": {},
     "output_type": "execute_result"
    }
   ],
   "source": [
    "toxicity.compute(predictions=model_continuations, aggregation=\"ratio\")"
   ]
  },
  {
   "cell_type": "code",
   "execution_count": 10,
   "metadata": {},
   "outputs": [],
   "source": [
    "all_toxicity=toxicity.compute(predictions=model_continuations)[\"toxicity\"]"
   ]
  },
  {
   "cell_type": "code",
   "execution_count": 11,
   "metadata": {},
   "outputs": [
    {
     "data": {
      "text/plain": [
       "0.07271450982801617"
      ]
     },
     "metadata": {},
     "output_type": "display_data"
    },
    {
     "data": {
      "text/plain": [
       "0.1132049635052681"
      ]
     },
     "metadata": {},
     "output_type": "display_data"
    },
    {
     "data": {
      "text/plain": [
       "0.014419974759221077"
      ]
     },
     "metadata": {},
     "output_type": "display_data"
    },
    {
     "data": {
      "text/plain": [
       "0"
      ]
     },
     "metadata": {},
     "output_type": "display_data"
    }
   ],
   "source": [
    "avg_toxicity=sum(all_toxicity)/len(all_toxicity)\n",
    "display(avg_toxicity)\n",
    "display(max(all_toxicity))\n",
    "display(min(all_toxicity))\n",
    "display(len([t for t in all_toxicity if t>0.5]))"
   ]
  },
  {
   "cell_type": "code",
   "execution_count": 12,
   "metadata": {},
   "outputs": [
    {
     "name": "stderr",
     "output_type": "stream",
     "text": [
      "C:\\Users\\15783\\AppData\\Local\\Temp\\ipykernel_8420\\2566191229.py:11: UserWarning: set_ticklabels() should only be used with a fixed number of ticks, i.e. after set_ticks() or using a FixedLocator.\n",
      "  ax.set(xticklabels=[0,0.25,0.5,0.75,1],ylim=(0,0.12),xlim=(0,1),xlabel=\"Percentage of prompts pred\",ylabel=\"Toxicity score\")\n"
     ]
    },
    {
     "data": {
      "image/png": "[encoded data removed]",
      "text/plain": [
       "<Figure size 200x200 with 1 Axes>"
      ]
     },
     "metadata": {},
     "output_type": "display_data"
    }
   ],
   "source": [
    "sorted_toxic=sorted(all_toxicity)\n",
    "bins=np.array_split(sorted_toxic,20)\n",
    "bins_avg=[0]+[sum(b)/len(b) for b in bins]\n",
    "\n",
    "plt.style.use(\"_mpl-gallery\")\n",
    "\n",
    "x=[n for n in np.linspace(0,1,21)]\n",
    "\n",
    "fig, ax=plt.subplots()\n",
    "ax.plot(x,bins_avg)\n",
    "ax.set(xticklabels=[0,0.25,0.5,0.75,1],ylim=(0,0.12),xlim=(0,1),xlabel=\"Percentage of continuition\",ylabel=\"Toxicity score\")\n",
    "plt.show()"
   ]
  },
  {
   "cell_type": "markdown",
   "metadata": {},
   "source": [
    "# Regard"
   ]
  },
  {
   "cell_type": "code",
   "execution_count": 13,
   "metadata": {},
   "outputs": [],
   "source": [
    "bold=load_dataset(\"AlexaAI/bold\",split=\"train\")"
   ]
  },
  {
   "cell_type": "code",
   "execution_count": 14,
   "metadata": {},
   "outputs": [
    {
     "data": {
      "text/plain": [
       "776"
      ]
     },
     "metadata": {},
     "output_type": "display_data"
    },
    {
     "data": {
      "text/plain": [
       "1587"
      ]
     },
     "metadata": {},
     "output_type": "display_data"
    }
   ],
   "source": [
    "female_bold=[b[\"prompts\"][0] for b in bold if b[\"category\"]==\"American_actresses\"]\n",
    "male_bold=[b[\"prompts\"][0] for b in bold if b[\"category\"]==\"American_actors\"]\n",
    "display(len(female_bold))\n",
    "display(len(male_bold))"
   ]
  },
  {
   "cell_type": "code",
   "execution_count": 15,
   "metadata": {},
   "outputs": [],
   "source": [
    "female_sample=sample(female_bold,200)\n",
    "male_sample=sample(male_bold,200)"
   ]
  },
  {
   "cell_type": "code",
   "execution_count": 16,
   "metadata": {},
   "outputs": [
    {
     "name": "stdout",
     "output_type": "stream",
     "text": [
      "female: 17\n",
      "female: 17\n",
      "female: 17\n",
      "female: 17\n",
      "female: 17\n",
      "female: 17\n",
      "female: 17\n",
      "female: 17\n",
      "female: 16\n",
      "female: 16\n",
      "female: 16\n",
      "female: 16\n",
      "male: 17\n",
      "male: 17\n",
      "male: 17\n",
      "male: 17\n",
      "male: 17\n",
      "male: 17\n",
      "male: 17\n",
      "male: 17\n",
      "male: 16\n",
      "male: 16\n",
      "male: 16\n",
      "male: 16\n"
     ]
    }
   ],
   "source": [
    "female_sections= np.array_split(female_sample,cpu_count())\n",
    "for s in female_sections:\n",
    "    print(f\"female: {len(s)}\")\n",
    "\n",
    "male_section= np.array_split(male_sample,cpu_count())\n",
    "for s in male_section:\n",
    "    print(f\"male: {len(s)}\")"
   ]
  },
  {
   "cell_type": "code",
   "execution_count": 17,
   "metadata": {},
   "outputs": [
    {
     "data": {
      "text/plain": [
       "200"
      ]
     },
     "metadata": {},
     "output_type": "display_data"
    }
   ],
   "source": [
    "female_continuations=[]\n",
    "argumnets=[[text_generation,p] for p in female_sections]\n",
    "with Pool(cpu_count(),maxtasksperchild=1) as p:\n",
    "  for results in p.starmap(mt.generate_continuation,argumnets):\n",
    "    female_continuations=female_continuations+results\n",
    "\n",
    "display(len(female_continuations))"
   ]
  },
  {
   "cell_type": "code",
   "execution_count": 18,
   "metadata": {},
   "outputs": [
    {
     "data": {
      "text/plain": [
       "200"
      ]
     },
     "metadata": {},
     "output_type": "display_data"
    }
   ],
   "source": [
    "male_continuations=[]\n",
    "argumnets=[[text_generation,p] for p in female_sections]\n",
    "with Pool(cpu_count(),maxtasksperchild=1) as p:\n",
    "  for results in p.starmap(mt.generate_continuation,argumnets):\n",
    "    male_continuations=male_continuations+results\n",
    "\n",
    "display(len(male_continuations))"
   ]
  },
  {
   "cell_type": "code",
   "execution_count": 19,
   "metadata": {},
   "outputs": [],
   "source": [
    "regard=evaluate.load(\"regard\",\"compare\")"
   ]
  },
  {
   "cell_type": "code",
   "execution_count": 20,
   "metadata": {},
   "outputs": [
    {
     "data": {
      "text/plain": [
       "{'regard_difference': {'neutral': 0.0,\n",
       "  'positive': 0.0,\n",
       "  'negative': 0.0,\n",
       "  'other': 0.0}}"
      ]
     },
     "execution_count": 20,
     "metadata": {},
     "output_type": "execute_result"
    }
   ],
   "source": [
    "regard.compute(data=male_continuations,references=female_continuations)"
   ]
  },
  {
   "cell_type": "code",
   "execution_count": 21,
   "metadata": {},
   "outputs": [
    {
     "data": {
      "text/plain": [
       "{'average_data_regard': {'neutral': 0.8738590571284294,\n",
       "  'positive': 0.08024038910865784,\n",
       "  'negative': 0.02589282026514411,\n",
       "  'other': 0.02000776356086135},\n",
       " 'average_references_regard': {'neutral': 0.8738590571284294,\n",
       "  'positive': 0.08024038910865784,\n",
       "  'negative': 0.02589282026514411,\n",
       "  'other': 0.02000776356086135}}"
      ]
     },
     "execution_count": 21,
     "metadata": {},
     "output_type": "execute_result"
    }
   ],
   "source": [
    "regard.compute(data=male_continuations,references=female_continuations,aggregation=\"average\")"
   ]
  },
  {
   "cell_type": "markdown",
   "metadata": {},
   "source": [
    "# Honest"
   ]
  },
  {
   "cell_type": "code",
   "execution_count": 25,
   "metadata": {},
   "outputs": [
    {
     "data": {
      "application/vnd.jupyter.widget-view+json": {
       "model_id": "6f3ef21dc28244b3b2072d754829da88",
       "version_major": 2,
       "version_minor": 0
      },
      "text/plain": [
       "Downloading builder script:   0%|          | 0.00/4.38k [00:00<?, ?B/s]"
      ]
     },
     "metadata": {},
     "output_type": "display_data"
    },
    {
     "data": {
      "application/vnd.jupyter.widget-view+json": {
       "model_id": "a36791043ce8426cb3647827bfa8935e",
       "version_major": 2,
       "version_minor": 0
      },
      "text/plain": [
       "Downloading readme:   0%|          | 0.00/5.56k [00:00<?, ?B/s]"
      ]
     },
     "metadata": {},
     "output_type": "display_data"
    },
    {
     "data": {
      "application/vnd.jupyter.widget-view+json": {
       "model_id": "282b815053074e8a91cbf57a47a0ca40",
       "version_major": 2,
       "version_minor": 0
      },
      "text/plain": [
       "Downloading data:   0%|          | 0.00/74.8k [00:00<?, ?B/s]"
      ]
     },
     "metadata": {},
     "output_type": "display_data"
    },
    {
     "data": {
      "application/vnd.jupyter.widget-view+json": {
       "model_id": "b08ecf6611554e59862054d43d2b3688",
       "version_major": 2,
       "version_minor": 0
      },
      "text/plain": [
       "Generating honest split: 0 examples [00:00, ? examples/s]"
      ]
     },
     "metadata": {},
     "output_type": "display_data"
    }
   ],
   "source": [
    "honest_dataset=load_dataset(\"MilaNLProc/honest\",\"en_queer_nonqueer\",split=\"honest\")"
   ]
  },
  {
   "cell_type": "code",
   "execution_count": 31,
   "metadata": {},
   "outputs": [
    {
     "data": {
      "text/plain": [
       "615"
      ]
     },
     "metadata": {},
     "output_type": "display_data"
    },
    {
     "data": {
      "text/plain": [
       "90"
      ]
     },
     "metadata": {},
     "output_type": "display_data"
    }
   ],
   "source": [
    "honest_queer=[h[\"template_masked\"].replace(' [M].',\"\") for h in honest_dataset if h['category'].startswith('queer')]\n",
    "honest_nonqueer=[h[\"template_masked\"].replace(' [M].',\"\") for h in honest_dataset if h['category'].startswith('nonqueer')]\n",
    "display(len(honest_queer))\n",
    "display(len(honest_nonqueer))"
   ]
  },
  {
   "cell_type": "code",
   "execution_count": 32,
   "metadata": {},
   "outputs": [],
   "source": [
    "queer_sample=sample(honest_queer,50)\n",
    "nonqueer_sample=sample(honest_nonqueer,50)"
   ]
  },
  {
   "cell_type": "code",
   "execution_count": 33,
   "metadata": {},
   "outputs": [
    {
     "name": "stdout",
     "output_type": "stream",
     "text": [
      "queer: 5\n",
      "queer: 5\n",
      "queer: 4\n",
      "queer: 4\n",
      "queer: 4\n",
      "queer: 4\n",
      "queer: 4\n",
      "queer: 4\n",
      "queer: 4\n",
      "queer: 4\n",
      "queer: 4\n",
      "queer: 4\n",
      "nonqueer: 5\n",
      "nonqueer: 5\n",
      "nonqueer: 4\n",
      "nonqueer: 4\n",
      "nonqueer: 4\n",
      "nonqueer: 4\n",
      "nonqueer: 4\n",
      "nonqueer: 4\n",
      "nonqueer: 4\n",
      "nonqueer: 4\n",
      "nonqueer: 4\n",
      "nonqueer: 4\n"
     ]
    }
   ],
   "source": [
    "queer_sections= np.array_split(queer_sample,cpu_count())\n",
    "for s in queer_sections:\n",
    "    print(f\"queer: {len(s)}\")\n",
    "\n",
    "nonqueer_section= np.array_split(nonqueer_sample,cpu_count())\n",
    "for s in nonqueer_section:\n",
    "    print(f\"nonqueer: {len(s)}\")"
   ]
  },
  {
   "cell_type": "code",
   "execution_count": 41,
   "metadata": {},
   "outputs": [
    {
     "data": {
      "text/plain": [
       "50"
      ]
     },
     "metadata": {},
     "output_type": "display_data"
    }
   ],
   "source": [
    "queer_continuations=[]\n",
    "argumnets=[[text_generation,p,tokenizer] for p in queer_sections]\n",
    "with Pool(cpu_count(),maxtasksperchild=1) as p:\n",
    "  for results in p.starmap(mt.generate_continuation_honest,argumnets):\n",
    "    queer_continuations=queer_continuations+results\n",
    "\n",
    "display(len(queer_continuations))"
   ]
  },
  {
   "cell_type": "code",
   "execution_count": 43,
   "metadata": {},
   "outputs": [
    {
     "data": {
      "text/plain": [
       "50"
      ]
     },
     "metadata": {},
     "output_type": "display_data"
    }
   ],
   "source": [
    "nonquer_continuations=[]\n",
    "argumnets=[[text_generation,p,tokenizer] for p in nonqueer_section]\n",
    "with Pool(cpu_count(),maxtasksperchild=1) as p:\n",
    "  for results in p.starmap(mt.generate_continuation_honest,argumnets):\n",
    "    nonquer_continuations=nonquer_continuations+results\n",
    "\n",
    "display(len(nonquer_continuations))"
   ]
  },
  {
   "cell_type": "code",
   "execution_count": 45,
   "metadata": {},
   "outputs": [
    {
     "data": {
      "application/vnd.jupyter.widget-view+json": {
       "model_id": "a17b0a8d35594c0aa81f48d3e593bab8",
       "version_major": 2,
       "version_minor": 0
      },
      "text/plain": [
       "Downloading builder script:   0%|          | 0.00/7.70k [00:00<?, ?B/s]"
      ]
     },
     "metadata": {},
     "output_type": "display_data"
    }
   ],
   "source": [
    "honest=evaluate.load(\"honest\",\"en\")"
   ]
  },
  {
   "cell_type": "code",
   "execution_count": 46,
   "metadata": {},
   "outputs": [],
   "source": [
    "groups=[\"queer\"]*50+[\"nonqueer\"]*50\n",
    "continuations=[q.split() for q in queer_continuations]+[nq.split() for nq in nonquer_continuations]"
   ]
  },
  {
   "cell_type": "code",
   "execution_count": 48,
   "metadata": {},
   "outputs": [
    {
     "name": "stdout",
     "output_type": "stream",
     "text": [
      "{'honest_score_per_group': {'queer': 0.008888888888888889, 'nonqueer': 0.006666666666666667}}\n"
     ]
    }
   ],
   "source": [
    "honest_score=honest.compute(predictions=continuations,groups=groups)\n",
    "print(honest_score)"
   ]
  },
  {
   "cell_type": "code",
   "execution_count": 3,
   "metadata": {},
   "outputs": [],
   "source": [
    "del text_generation\n",
    "\n",
    "import gc \n",
    "gc.collect()\n",
    "torch.cuda.empty_cache() "
   ]
  }
 ],
 "metadata": {
  "kernelspec": {
   "display_name": "Python 3 (ipykernel)",
   "language": "python",
   "name": "python3"
  },
  "language_info": {
   "codemirror_mode": {
    "name": "ipython",
    "version": 3
   },
   "file_extension": ".py",
   "mimetype": "text/x-python",
   "name": "python",
   "nbconvert_exporter": "python",
   "pygments_lexer": "ipython3",
   "version": "3.10.13"
  }
 },
 "nbformat": 4,
 "nbformat_minor": 4
}
