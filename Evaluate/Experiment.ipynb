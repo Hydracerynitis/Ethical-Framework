{
 "cells": [
  {
   "cell_type": "code",
   "execution_count": 75,
   "metadata": {},
   "outputs": [],
   "source": [
    "from datasets import load_dataset\n",
    "#import torch \n",
    "from random import randint, seed\n",
    "import numpy as np\n",
    "from transformers import AutoModelForCausalLM,AutoTokenizer, pipeline\n",
    "import evaluate\n",
    "import matplotlib.pyplot as plt\n",
    "import matplotlib.ticker as ticker\n",
    "import gc \n",
    "from tqdm.notebook import tqdm\n",
    "import pandas as pd\n",
    "import ast"
   ]
  },
  {
   "cell_type": "code",
   "execution_count": 2,
   "metadata": {},
   "outputs": [],
   "source": [
    "def sample_prompts(dataset, num_examples=100):\n",
    "    if num_examples >= len(dataset):\n",
    "        num_examples=len(dataset)\n",
    "    picks = []\n",
    "    pick_indice=[]\n",
    "    for _ in range(num_examples):\n",
    "        pick = randint(0, len(dataset)-1)\n",
    "        while pick in picks:\n",
    "            pick = randint(0, len(dataset)-1)\n",
    "        pick_indice.append(pick)\n",
    "        picks.append(dataset[pick])\n",
    "    return picks"
   ]
  },
  {
   "cell_type": "code",
   "execution_count": null,
   "metadata": {},
   "outputs": [],
   "source": [
    "toxicity_dataset=load_dataset(\"allenai/real-toxicity-prompts\", split=\"train\")\n",
    "regard_dataset=load_dataset(\"AlexaAI/bold\",split=\"train\")\n",
    "honest_dataset=load_dataset(\"MilaNLProc/honest\",\"en_queer_nonqueer\",split=\"honest\")\n",
    "\n",
    "regard=evaluate.load(\"regard\",\"compare\")\n",
    "toxicity = evaluate.load(\"toxicity\")\n",
    "honest=evaluate.load(\"honest\",\"en\")"
   ]
  },
  {
   "cell_type": "code",
   "execution_count": 4,
   "metadata": {},
   "outputs": [],
   "source": [
    "female_bold=[b[\"prompts\"][0] for b in regard_dataset if b[\"category\"]==\"American_actresses\"]\n",
    "male_bold=[b[\"prompts\"][0] for b in regard_dataset if b[\"category\"]==\"American_actors\"]\n",
    "honest_queer=[h[\"template_masked\"].replace(' [M].',\"\") for h in honest_dataset if h['category'].startswith('queer')]\n",
    "honest_nonqueer=[h[\"template_masked\"].replace(' [M].',\"\") for h in honest_dataset if h['category'].startswith('nonqueer')]"
   ]
  },
  {
   "cell_type": "code",
   "execution_count": 5,
   "metadata": {},
   "outputs": [],
   "source": [
    "seed(1000)\n",
    "\n",
    "test_sample= sample_prompts(toxicity_dataset,200)\n",
    "test_prompts = [p['prompt']['text'] for p in test_sample]\n",
    "\n",
    "seed(2000)\n",
    "\n",
    "female_sample=sample_prompts(female_bold,100)\n",
    "male_sample=sample_prompts(male_bold,100)\n",
    "\n",
    "seed(3000)\n",
    "\n",
    "queer_sample=sample_prompts(honest_queer,75)\n",
    "nonqueer_sample=sample_prompts(honest_nonqueer,75)"
   ]
  },
  {
   "cell_type": "markdown",
   "metadata": {},
   "source": [
    "# Mixtral 7B"
   ]
  },
  {
   "cell_type": "code",
   "execution_count": 4,
   "metadata": {},
   "outputs": [
    {
     "data": {
      "application/vnd.jupyter.widget-view+json": {
       "model_id": "47c1ca7d165c491288422fa8d97d7ffc",
       "version_major": 2,
       "version_minor": 0
      },
      "text/plain": [
       "Loading checkpoint shards:   0%|          | 0/19 [00:00<?, ?it/s]"
      ]
     },
     "metadata": {},
     "output_type": "display_data"
    }
   ],
   "source": [
    "model = AutoModelForCausalLM.from_pretrained(\"mistralai/Mixtral-8x7B-Instruct-v0.1\", torch_dtype=torch.float16, trust_remote_code=True, device_map=\"auto\")\n",
    "tokenizer = AutoTokenizer.from_pretrained(\"mistralai/Mixtral-8x7B-Instruct-v0.1\", trust_remote_code=True)"
   ]
  },
  {
   "cell_type": "code",
   "execution_count": 20,
   "metadata": {},
   "outputs": [],
   "source": [
    "def mixtral_generate(prompts,honest):\n",
    "    outputs=[]\n",
    "    for p in tqdm(prompts,total=len(prompts),desc=\"Generating Texts\"):\n",
    "        inputs=tokenizer(p, return_tensors=\"pt\").to(\"cuda\")\n",
    "        if(honest):\n",
    "            output = model.generate(**inputs,  max_new_tokens=1,num_return_sequences=20, pad_token_id=tokenizer.eos_token_id).to(\"cuda\")\n",
    "            generation=tokenizer.batch_decode(output, skip_special_tokens=True)\n",
    "            unique_generation=[]\n",
    "            for g in generation:\n",
    "                gen=g.replace(p+\" \",\"\")\n",
    "                if gen not in unique_generation:\n",
    "                    unique_generation.append(gen)\n",
    "            outputs.append(unique_generation)\n",
    "        else:\n",
    "            output = model.generate(**inputs, max_new_tokens=40, pad_token_id=tokenizer.eos_token_id).to(\"cuda\")\n",
    "            generation=tokenizer.decode(output[0], skip_special_tokens=True).replace(p,\"\")\n",
    "            outputs.append(generation)\n",
    "    return outputs"
   ]
  },
  {
   "cell_type": "markdown",
   "metadata": {},
   "source": [
    "## Mixtral 7B Toxicity"
   ]
  },
  {
   "cell_type": "code",
   "execution_count": 38,
   "metadata": {},
   "outputs": [
    {
     "data": {
      "application/vnd.jupyter.widget-view+json": {
       "model_id": "15be7dc4131e4a6a9c81e35823cf69d3",
       "version_major": 2,
       "version_minor": 0
      },
      "text/plain": [
       "Generating Texts:   0%|          | 0/200 [00:00<?, ?it/s]"
      ]
     },
     "metadata": {},
     "output_type": "display_data"
    }
   ],
   "source": [
    "model_continuations=mixtral_generate(test_prompts,False)"
   ]
  },
  {
   "cell_type": "code",
   "execution_count": 40,
   "metadata": {},
   "outputs": [],
   "source": [
    "mixtral_toxicty_rate=toxicity.compute(predictions=model_continuations, aggregation=\"ratio\")[\"toxicity_ratio\"]\n",
    "mixtral_toxicty=toxicity.compute(predictions=model_continuations)[\"toxicity\"]"
   ]
  },
  {
   "cell_type": "markdown",
   "metadata": {},
   "source": [
    "## Mixtral 7B Regard"
   ]
  },
  {
   "cell_type": "code",
   "execution_count": 42,
   "metadata": {},
   "outputs": [
    {
     "data": {
      "application/vnd.jupyter.widget-view+json": {
       "model_id": "7f0a4cd28a944be1b81204ddd613efd0",
       "version_major": 2,
       "version_minor": 0
      },
      "text/plain": [
       "Generating Texts:   0%|          | 0/100 [00:00<?, ?it/s]"
      ]
     },
     "metadata": {},
     "output_type": "display_data"
    },
    {
     "data": {
      "application/vnd.jupyter.widget-view+json": {
       "model_id": "3eab8c18626a4c53b4571b5b671d0b2f",
       "version_major": 2,
       "version_minor": 0
      },
      "text/plain": [
       "Generating Texts:   0%|          | 0/100 [00:00<?, ?it/s]"
      ]
     },
     "metadata": {},
     "output_type": "display_data"
    }
   ],
   "source": [
    "female_continuations=mixtral_generate(female_sample,False)\n",
    "male_continuations=mixtral_generate(male_sample,False)"
   ]
  },
  {
   "cell_type": "code",
   "execution_count": 43,
   "metadata": {},
   "outputs": [],
   "source": [
    "Mixtral_regard_diff=regard.compute(data=male_continuations,references=female_continuations)[\"regard_difference\"]"
   ]
  },
  {
   "cell_type": "markdown",
   "metadata": {},
   "source": [
    "## Mixtral 7B Honest\n",
    "\n",
    "Mixtral is not suitable to output \"num_return_sequences\" other than 1, making it unable to output several potential outputs for one single prompts. Since Honest expect a list of potential outputs for one single prompt, Mixtral is incompatible with Honest measurement."
   ]
  },
  {
   "cell_type": "code",
   "execution_count": 75,
   "metadata": {},
   "outputs": [],
   "source": [
    "del model\n",
    "del tokenizer\n",
    "\n",
    "gc.collect()\n",
    "torch.cuda.empty_cache() "
   ]
  },
  {
   "cell_type": "markdown",
   "metadata": {},
   "source": [
    "# Phi-2"
   ]
  },
  {
   "cell_type": "code",
   "execution_count": 76,
   "metadata": {},
   "outputs": [
    {
     "name": "stderr",
     "output_type": "stream",
     "text": [
      "A new version of the following files was downloaded from https://huggingface.co/microsoft/phi-2:\n",
      "- configuration_phi.py\n",
      ". Make sure to double-check they do not contain any added malicious code. To avoid downloading new versions of the code file, you can pin a revision.\n"
     ]
    },
    {
     "data": {
      "application/vnd.jupyter.widget-view+json": {
       "model_id": "7ceb1b92ac674144aafbc41b9f261aa7",
       "version_major": 2,
       "version_minor": 0
      },
      "text/plain": [
       "modeling_phi.py:   0%|          | 0.00/62.5k [00:00<?, ?B/s]"
      ]
     },
     "metadata": {},
     "output_type": "display_data"
    },
    {
     "name": "stderr",
     "output_type": "stream",
     "text": [
      "A new version of the following files was downloaded from https://huggingface.co/microsoft/phi-2:\n",
      "- modeling_phi.py\n",
      ". Make sure to double-check they do not contain any added malicious code. To avoid downloading new versions of the code file, you can pin a revision.\n"
     ]
    },
    {
     "data": {
      "application/vnd.jupyter.widget-view+json": {
       "model_id": "0134920b852f47238d8d922af464025d",
       "version_major": 2,
       "version_minor": 0
      },
      "text/plain": [
       "Downloading shards:   0%|          | 0/2 [00:00<?, ?it/s]"
      ]
     },
     "metadata": {},
     "output_type": "display_data"
    },
    {
     "data": {
      "application/vnd.jupyter.widget-view+json": {
       "model_id": "0f9a6bd25f2d438b8dbb8c7cd235611e",
       "version_major": 2,
       "version_minor": 0
      },
      "text/plain": [
       "Loading checkpoint shards:   0%|          | 0/2 [00:00<?, ?it/s]"
      ]
     },
     "metadata": {},
     "output_type": "display_data"
    },
    {
     "name": "stderr",
     "output_type": "stream",
     "text": [
      "Special tokens have been added in the vocabulary, make sure the associated word embeddings are fine-tuned or trained.\n"
     ]
    }
   ],
   "source": [
    "model = AutoModelForCausalLM.from_pretrained(\"microsoft/phi-2\", torch_dtype=\"auto\", trust_remote_code=True, device_map=\"auto\")\n",
    "tokenizer = AutoTokenizer.from_pretrained(\"microsoft/phi-2\", trust_remote_code=True)"
   ]
  },
  {
   "cell_type": "code",
   "execution_count": 17,
   "metadata": {},
   "outputs": [],
   "source": [
    "def phi_generate(prompts,honest):\n",
    "    outputs=[]\n",
    "    for p in tqdm(prompts,total=len(prompts),desc=\"Generating Texts\"):\n",
    "        inputs=tokenizer(p, return_tensors=\"pt\", return_attention_mask=False).to(\"cuda\")\n",
    "        if(honest):\n",
    "            output = model.generate(**inputs, max_length=len(tokenizer(p)['input_ids'])+10,num_return_sequences=20, pad_token_id=tokenizer.eos_token_id).to(\"cuda\")\n",
    "            generation=generation[0]['generated_text'].replace(p+\" \",'')\n",
    "            generation=[g.replace(p,\"\") for g in generation]\n",
    "        else:\n",
    "            output = model.generate(**inputs, max_new_tokens=40, pad_token_id=tokenizer.eos_token_id).to(\"cuda\")\n",
    "            generation=tokenizer.decode(output[0]).replace(p,\"\")\n",
    "        outputs.append(generation)\n",
    "    return outputs\n",
    "    outputs=[]"
   ]
  },
  {
   "cell_type": "markdown",
   "metadata": {},
   "source": [
    "## Phi-2 Toxicity"
   ]
  },
  {
   "cell_type": "code",
   "execution_count": 90,
   "metadata": {},
   "outputs": [
    {
     "data": {
      "application/vnd.jupyter.widget-view+json": {
       "model_id": "68ec25fadf744e16a9f79cd7f9fdc936",
       "version_major": 2,
       "version_minor": 0
      },
      "text/plain": [
       "Generating Texts:   0%|          | 0/200 [00:00<?, ?it/s]"
      ]
     },
     "metadata": {},
     "output_type": "display_data"
    }
   ],
   "source": [
    "model_continuations=phi_generate(test_prompts,False)"
   ]
  },
  {
   "cell_type": "code",
   "execution_count": 91,
   "metadata": {},
   "outputs": [],
   "source": [
    "phi_toxicty_rate=toxicity.compute(predictions=model_continuations, aggregation=\"ratio\")[\"toxicity_ratio\"]\n",
    "phi_toxicty=toxicity.compute(predictions=model_continuations)[\"toxicity\"]"
   ]
  },
  {
   "cell_type": "markdown",
   "metadata": {},
   "source": [
    "## Phi-2 Regard"
   ]
  },
  {
   "cell_type": "code",
   "execution_count": 95,
   "metadata": {},
   "outputs": [
    {
     "data": {
      "application/vnd.jupyter.widget-view+json": {
       "model_id": "f253d0e6d3974dff84ce4a2051131dc2",
       "version_major": 2,
       "version_minor": 0
      },
      "text/plain": [
       "Generating Texts:   0%|          | 0/100 [00:00<?, ?it/s]"
      ]
     },
     "metadata": {},
     "output_type": "display_data"
    },
    {
     "data": {
      "application/vnd.jupyter.widget-view+json": {
       "model_id": "d540653da7394e96bdc349d273464db1",
       "version_major": 2,
       "version_minor": 0
      },
      "text/plain": [
       "Generating Texts:   0%|          | 0/100 [00:00<?, ?it/s]"
      ]
     },
     "metadata": {},
     "output_type": "display_data"
    }
   ],
   "source": [
    "female_continuations=phi_generate(female_sample,False)\n",
    "male_continuations=phi_generate(male_sample,False)"
   ]
  },
  {
   "cell_type": "code",
   "execution_count": 96,
   "metadata": {},
   "outputs": [],
   "source": [
    "Phi_regard_diff=regard.compute(data=male_continuations,references=female_continuations)[\"regard_difference\"]"
   ]
  },
  {
   "cell_type": "markdown",
   "metadata": {},
   "source": [
    "## Phi Honest\n",
    "\n",
    "Phi-2 is not suitable to output \"num_return_sequences\" other than 1, making it unable to output several potential outputs for one single prompts. Since Honest expect a list of potential outputs for one single prompt, Phi-2 is incompatible with Honest measurement."
   ]
  },
  {
   "cell_type": "code",
   "execution_count": 99,
   "metadata": {},
   "outputs": [],
   "source": [
    "del model\n",
    "del tokenizer\n",
    "\n",
    "gc.collect()\n",
    "torch.cuda.empty_cache() "
   ]
  },
  {
   "cell_type": "markdown",
   "metadata": {},
   "source": [
    "# LLaMa Pro 8B"
   ]
  },
  {
   "cell_type": "code",
   "execution_count": 6,
   "metadata": {},
   "outputs": [
    {
     "data": {
      "application/vnd.jupyter.widget-view+json": {
       "model_id": "f9265c3b2afd498ea5f6fb86b1caa95c",
       "version_major": 2,
       "version_minor": 0
      },
      "text/plain": [
       "Loading checkpoint shards:   0%|          | 0/2 [00:00<?, ?it/s]"
      ]
     },
     "metadata": {},
     "output_type": "display_data"
    }
   ],
   "source": [
    "model = AutoModelForCausalLM.from_pretrained(\"TencentARC/LLaMA-Pro-8B-Instruct\", device_map=\"auto\")\n",
    "tokenizer = AutoTokenizer.from_pretrained(\"TencentARC/LLaMA-Pro-8B-Instruct\")"
   ]
  },
  {
   "cell_type": "markdown",
   "metadata": {},
   "source": [
    "## LLaMa Pro Toxicity"
   ]
  },
  {
   "cell_type": "code",
   "execution_count": 9,
   "metadata": {},
   "outputs": [
    {
     "data": {
      "application/vnd.jupyter.widget-view+json": {
       "model_id": "d34345d8968541dcaa56ee8ff9898248",
       "version_major": 2,
       "version_minor": 0
      },
      "text/plain": [
       "Generating Texts:   0%|          | 0/200 [00:00<?, ?it/s]"
      ]
     },
     "metadata": {},
     "output_type": "display_data"
    }
   ],
   "source": [
    "model_continuations=mixtral_generate(test_prompts,False)"
   ]
  },
  {
   "cell_type": "code",
   "execution_count": 10,
   "metadata": {},
   "outputs": [],
   "source": [
    "LLaMa_toxicty_rate=toxicity.compute(predictions=model_continuations, aggregation=\"ratio\")[\"toxicity_ratio\"]\n",
    "LLaMa_toxicty=toxicity.compute(predictions=model_continuations)[\"toxicity\"]"
   ]
  },
  {
   "cell_type": "markdown",
   "metadata": {},
   "source": [
    "## LLaMa Regard"
   ]
  },
  {
   "cell_type": "code",
   "execution_count": 11,
   "metadata": {},
   "outputs": [
    {
     "data": {
      "application/vnd.jupyter.widget-view+json": {
       "model_id": "7697125d188749a5b66b5c8d9ae79d15",
       "version_major": 2,
       "version_minor": 0
      },
      "text/plain": [
       "Generating Texts:   0%|          | 0/100 [00:00<?, ?it/s]"
      ]
     },
     "metadata": {},
     "output_type": "display_data"
    },
    {
     "data": {
      "application/vnd.jupyter.widget-view+json": {
       "model_id": "c17d7f25f85247b693024a9750421029",
       "version_major": 2,
       "version_minor": 0
      },
      "text/plain": [
       "Generating Texts:   0%|          | 0/100 [00:00<?, ?it/s]"
      ]
     },
     "metadata": {},
     "output_type": "display_data"
    }
   ],
   "source": [
    "female_continuations=mixtral_generate(female_sample,False)\n",
    "male_continuations=mixtral_generate(male_sample,False)"
   ]
  },
  {
   "cell_type": "code",
   "execution_count": 12,
   "metadata": {},
   "outputs": [],
   "source": [
    "LLaMa_regard_diff=regard.compute(data=male_continuations,references=female_continuations)[\"regard_difference\"]"
   ]
  },
  {
   "cell_type": "markdown",
   "metadata": {},
   "source": [
    "## LLaMa Honest"
   ]
  },
  {
   "cell_type": "code",
   "execution_count": 21,
   "metadata": {},
   "outputs": [
    {
     "data": {
      "application/vnd.jupyter.widget-view+json": {
       "model_id": "0ec696bd61bf4c31a23ee527d2160e73",
       "version_major": 2,
       "version_minor": 0
      },
      "text/plain": [
       "Generating Texts:   0%|          | 0/75 [00:00<?, ?it/s]"
      ]
     },
     "metadata": {},
     "output_type": "display_data"
    },
    {
     "data": {
      "application/vnd.jupyter.widget-view+json": {
       "model_id": "4a3e005117b140e39fe021c8d2e64410",
       "version_major": 2,
       "version_minor": 0
      },
      "text/plain": [
       "Generating Texts:   0%|          | 0/75 [00:00<?, ?it/s]"
      ]
     },
     "metadata": {},
     "output_type": "display_data"
    }
   ],
   "source": [
    "queer_continuations=mixtral_generate(queer_sample,True)\n",
    "nonquer_continuations=mixtral_generate(nonqueer_sample,True)"
   ]
  },
  {
   "cell_type": "code",
   "execution_count": 23,
   "metadata": {},
   "outputs": [],
   "source": [
    "groups=[\"queer\"]*75+[\"nonqueer\"]*75\n",
    "continuations=queer_continuations+nonquer_continuations\n",
    "\n",
    "LLaMa_honest=honest.compute(predictions=continuations,groups=groups)[\"honest_score_per_group\"]"
   ]
  },
  {
   "cell_type": "code",
   "execution_count": 17,
   "metadata": {},
   "outputs": [],
   "source": [
    "del model\n",
    "del tokenizer\n",
    "\n",
    "gc.collect()\n",
    "torch.cuda.empty_cache() "
   ]
  },
  {
   "cell_type": "code",
   "execution_count": 24,
   "metadata": {},
   "outputs": [],
   "source": [
    "with open(\"LLaMa_honest.txt\",\"a\") as fq:\n",
    "    fq.write(str(LLaMa_honest))"
   ]
  },
  {
   "cell_type": "markdown",
   "metadata": {},
   "source": [
    "# Results"
   ]
  },
  {
   "cell_type": "code",
   "execution_count": 8,
   "metadata": {},
   "outputs": [],
   "source": [
    "column=[\"Mixtral 7B\", \"Phi-2\", \"LLaMa Pro 8B\"]"
   ]
  },
  {
   "cell_type": "markdown",
   "metadata": {},
   "source": [
    "### Toxicity Rate"
   ]
  },
  {
   "cell_type": "code",
   "execution_count": 10,
   "metadata": {},
   "outputs": [
    {
     "data": {
      "text/html": [
       "<div>\n",
       "<style scoped>\n",
       "    .dataframe tbody tr th:only-of-type {\n",
       "        vertical-align: middle;\n",
       "    }\n",
       "\n",
       "    .dataframe tbody tr th {\n",
       "        vertical-align: top;\n",
       "    }\n",
       "\n",
       "    .dataframe thead th {\n",
       "        text-align: right;\n",
       "    }\n",
       "</style>\n",
       "<table border=\"1\" class=\"dataframe\">\n",
       "  <thead>\n",
       "    <tr style=\"text-align: right;\">\n",
       "      <th></th>\n",
       "      <th>Mixtral 7B</th>\n",
       "      <th>Phi-2</th>\n",
       "      <th>LLaMa Pro 8B</th>\n",
       "    </tr>\n",
       "  </thead>\n",
       "  <tbody>\n",
       "    <tr>\n",
       "      <th>Toxicity rate</th>\n",
       "      <td>0.015</td>\n",
       "      <td>0.0</td>\n",
       "      <td>0.03</td>\n",
       "    </tr>\n",
       "  </tbody>\n",
       "</table>\n",
       "</div>"
      ],
      "text/plain": [
       "               Mixtral 7B  Phi-2  LLaMa Pro 8B\n",
       "Toxicity rate       0.015    0.0          0.03"
      ]
     },
     "metadata": {},
     "output_type": "display_data"
    }
   ],
   "source": [
    "toxicity_rate=pd.DataFrame([[mixtral_toxicty_rate,phi_toxicty_rate,LLaMa_toxicty_rate]],index=[\"Toxicity rate\"],columns=column)\n",
    "display(toxicity_rate)"
   ]
  },
  {
   "cell_type": "markdown",
   "metadata": {},
   "source": [
    "### Toxicity Distribution"
   ]
  },
  {
   "cell_type": "code",
   "execution_count": 24,
   "metadata": {},
   "outputs": [],
   "source": [
    "LLaMa_toxicty=sorted(LLaMa_toxicty)\n",
    "LLaMa_toxicty.reverse()\n",
    "mixtral_toxicty=sorted(mixtral_toxicty)\n",
    "mixtral_toxicty.reverse()\n",
    "phi_toxicty=sorted(phi_toxicty)\n",
    "phi_toxicty.reverse()\n",
    "\n",
    "plt.style.use(\"_mpl-gallery\")"
   ]
  },
  {
   "cell_type": "code",
   "execution_count": 62,
   "metadata": {},
   "outputs": [
    {
     "data": {
      "image/png": "[encoded data removed]",
      "text/plain": [
       "<Figure size 1000x200 with 3 Axes>"
      ]
     },
     "metadata": {},
     "output_type": "display_data"
    }
   ],
   "source": [
    "fig, ax=plt.subplots(1,3,figsize=(10, 2))\n",
    "\n",
    "ax[0].plot(range(200),mixtral_toxicty)\n",
    "ax[0].set_title(\"Mixtral 7B Toxicity Result\")\n",
    "ax[0].xaxis.set_major_locator(ticker.MaxNLocator(5))\n",
    "ax[0].set(xlabel=\"Top X toxicity\",ylabel=\"Toxicity score\")\n",
    "\n",
    "ax[1].plot(range(200),phi_toxicty)\n",
    "ax[1].set_title(\"Phi-2 Toxicity Result\")\n",
    "ax[1].xaxis.set_major_locator(ticker.MaxNLocator(5))\n",
    "ax[1].set(xlabel=\"Top X toxicity\",ylabel=\"Toxicity score\")\n",
    "\n",
    "ax[2].plot(range(200),LLaMa_toxicty)\n",
    "ax[2].set_title(\"Llama Pro 7B Toxicity Result\")\n",
    "ax[2].xaxis.set_major_locator(ticker.MaxNLocator(5))\n",
    "ax[2].set(xlabel=\"Top X toxicity\",ylabel=\"Toxicity score\")\n",
    "\n",
    "plt.show()"
   ]
  },
  {
   "cell_type": "code",
   "execution_count": 72,
   "metadata": {},
   "outputs": [
    {
     "data": {
      "image/png": "[encoded data removed]",
      "text/plain": [
       "<Figure size 1000x200 with 3 Axes>"
      ]
     },
     "metadata": {},
     "output_type": "display_data"
    }
   ],
   "source": [
    "fig, ax=plt.subplots(1,3,figsize=(10, 2))\n",
    "\n",
    "ax[0].plot(range(50),mixtral_toxicty[:50])\n",
    "ax[0].set_title(\"Mixtral 7B Top 50 Toxicity Result\")\n",
    "ax[0].xaxis.set_major_locator(ticker.AutoLocator())\n",
    "ax[0].set(ylim=[0,1],xlabel=\"Top X toxicity\",ylabel=\"Toxicity score\")\n",
    "\n",
    "ax[1].plot(range(50),phi_toxicty[:50])\n",
    "ax[1].set_title(\"Phi-2 Top 50 Toxicity Result\")\n",
    "ax[1].xaxis.set_major_locator(ticker.AutoLocator())\n",
    "ax[1].set(ylim=[0,1],xlabel=\"Top X toxicity\",ylabel=\"Toxicity score\")\n",
    "\n",
    "ax[2].plot(range(50),LLaMa_toxicty[:50])\n",
    "ax[2].set_title(\"Llama Pro 7B Top 50 Toxicity Result\")\n",
    "ax[2].xaxis.set_major_locator(ticker.AutoLocator())\n",
    "ax[2].set(ylim=[0,1],xlabel=\"Top X toxicity\",ylabel=\"Toxicity score\")\n",
    "\n",
    "plt.show()"
   ]
  },
  {
   "cell_type": "markdown",
   "metadata": {},
   "source": [
    "### Regard Difference\n",
    "\n",
    "Regard socre is the distribution that a language model would make a positive or negative generation regarding a certain demographic.\n",
    "\n",
    "In my experiment, I compare language models' prediction of American actors against American actresses and calculate their difference in the regard score. So if it has positive value, the language model is more likely to make certain remakes males than females, and vice versa."
   ]
  },
  {
   "cell_type": "code",
   "execution_count": 79,
   "metadata": {},
   "outputs": [],
   "source": [
    "regard_diff_index=[\"positive\",\"neutral\",\"negative\",\"other\"]\n",
    "\n",
    "data_matrix=[]\n",
    "\n",
    "for t in regard_diff_index:\n",
    "    data_matrix.append([Mixtral_regard_diff[t],Phi_regard_diff[t],LLaMa_regard_diff[t]])"
   ]
  },
  {
   "cell_type": "code",
   "execution_count": 80,
   "metadata": {},
   "outputs": [
    {
     "data": {
      "text/html": [
       "<div>\n",
       "<style scoped>\n",
       "    .dataframe tbody tr th:only-of-type {\n",
       "        vertical-align: middle;\n",
       "    }\n",
       "\n",
       "    .dataframe tbody tr th {\n",
       "        vertical-align: top;\n",
       "    }\n",
       "\n",
       "    .dataframe thead th {\n",
       "        text-align: right;\n",
       "    }\n",
       "</style>\n",
       "<table border=\"1\" class=\"dataframe\">\n",
       "  <thead>\n",
       "    <tr style=\"text-align: right;\">\n",
       "      <th></th>\n",
       "      <th>Mixtral 7B</th>\n",
       "      <th>Phi-2</th>\n",
       "      <th>LLaMa Pro 8B</th>\n",
       "    </tr>\n",
       "  </thead>\n",
       "  <tbody>\n",
       "    <tr>\n",
       "      <th>positive</th>\n",
       "      <td>-0.049703</td>\n",
       "      <td>-0.058416</td>\n",
       "      <td>-0.033677</td>\n",
       "    </tr>\n",
       "    <tr>\n",
       "      <th>neutral</th>\n",
       "      <td>0.021155</td>\n",
       "      <td>0.107009</td>\n",
       "      <td>0.053084</td>\n",
       "    </tr>\n",
       "    <tr>\n",
       "      <th>negative</th>\n",
       "      <td>0.016109</td>\n",
       "      <td>-0.036566</td>\n",
       "      <td>-0.009183</td>\n",
       "    </tr>\n",
       "    <tr>\n",
       "      <th>other</th>\n",
       "      <td>0.012439</td>\n",
       "      <td>-0.012027</td>\n",
       "      <td>-0.010224</td>\n",
       "    </tr>\n",
       "  </tbody>\n",
       "</table>\n",
       "</div>"
      ],
      "text/plain": [
       "          Mixtral 7B     Phi-2  LLaMa Pro 8B\n",
       "positive   -0.049703 -0.058416     -0.033677\n",
       "neutral     0.021155  0.107009      0.053084\n",
       "negative    0.016109 -0.036566     -0.009183\n",
       "other       0.012439 -0.012027     -0.010224"
      ]
     },
     "metadata": {},
     "output_type": "display_data"
    }
   ],
   "source": [
    "regard_diff=pd.DataFrame(data_matrix,index=regard_diff_index,columns=column)\n",
    "display(regard_diff)"
   ]
  },
  {
   "cell_type": "code",
   "execution_count": 117,
   "metadata": {},
   "outputs": [
    {
     "data": {
      "image/png": "[encoded data removed]",
      "text/plain": [
       "<Figure size 400x400 with 1 Axes>"
      ]
     },
     "metadata": {},
     "output_type": "display_data"
    }
   ],
   "source": [
    "plt.style.use('_mpl-gallery')\n",
    "\n",
    "# make data:\n",
    "x = 0.5 + np.arange(12)\n",
    "y=[]\n",
    "for _, row in regard_diff.iterrows():\n",
    "    y+=row.values.tolist()\n",
    "\n",
    "# plot\n",
    "fig, ax = plt.subplots(figsize=(4, 4))\n",
    "plt.xticks(rotation=60)\n",
    "colors=[\"green\"]*3+[\"yellow\"]*3+[\"red\"]*3+[\"blue\"]*3\n",
    "ax.bar(x, y, width=1, edgecolor=\"white\", linewidth=2,color=colors)\n",
    "ax.set_title(\"Regard Score Difference\")\n",
    "xtick_labels=[\"Mixtral Positve\",\"Phi-2 Positive\",\"LLaMa Positive\",\"Mixtral Neutral\",\"Phi-2 Neutral\",\"LLaMa Neutral\",\"Mixtral Negative\",\"Phi-2 Negative\",\"LLaMa Negative\",\"Mixtral Other\", \"Phi-2 Other\", \"LLaMa Other\"]\n",
    "ax.set(xlim=(0, 12), xticks=np.arange(1,13, 1), xticklabels=xtick_labels)\n",
    "\n",
    "plt.show()"
   ]
  },
  {
   "cell_type": "code",
   "execution_count": 118,
   "metadata": {},
   "outputs": [
    {
     "data": {
      "text/plain": [
       "{'queer': 0.01575757575757576, 'nonqueer': 0.020606060606060607}"
      ]
     },
     "execution_count": 118,
     "metadata": {},
     "output_type": "execute_result"
    }
   ],
   "source": [
    "with open(\"LLaMa_honest.txt\",\"r\") as f:\n",
    "    line=f.readline()\n",
    "    LLaMa_honest=ast.literal_eval(line)\n",
    "\n",
    "LLaMa_honest"
   ]
  }
 ],
 "metadata": {
  "kernelspec": {
   "display_name": "Python 3 (ipykernel)",
   "language": "python",
   "name": "python3"
  },
  "language_info": {
   "codemirror_mode": {
    "name": "ipython",
    "version": 3
   },
   "file_extension": ".py",
   "mimetype": "text/x-python",
   "name": "python",
   "nbconvert_exporter": "python",
   "pygments_lexer": "ipython3",
   "version": "3.9.13"
  }
 },
 "nbformat": 4,
 "nbformat_minor": 4
}
