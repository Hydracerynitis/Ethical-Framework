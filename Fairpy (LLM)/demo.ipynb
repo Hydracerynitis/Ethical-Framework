{
 "cells": [
  {
   "cell_type": "code",
   "execution_count": 1,
   "metadata": {},
   "outputs": [],
   "source": [
    "import sys\n",
    "import os\n",
    "sys.path.insert(0, os.path.abspath('./FairpyToolkit'))\n",
    "sys.path.insert(0, os.path.abspath('./FairpyToolkit/BiasDetection'))"
   ]
  },
  {
   "cell_type": "code",
   "execution_count": 2,
   "metadata": {},
   "outputs": [
    {
     "name": "stderr",
     "output_type": "stream",
     "text": [
      "[nltk_data] Downloading package vader_lexicon to C:\\Users\\Dai\n",
      "[nltk_data]     Kejun\\AppData\\Roaming\\nltk_data...\n",
      "[nltk_data]   Package vader_lexicon is already up-to-date!\n"
     ]
    },
    {
     "data": {
      "text/plain": [
       "True"
      ]
     },
     "execution_count": 2,
     "metadata": {},
     "output_type": "execute_result"
    }
   ],
   "source": [
    "import nltk\n",
    "nltk.download('vader_lexicon')"
   ]
  },
  {
   "cell_type": "code",
   "execution_count": 3,
   "metadata": {},
   "outputs": [
    {
     "name": "stdout",
     "output_type": "stream",
     "text": [
      "WARNING:tensorflow:From d:\\Home\\Documents\\Research\\Ethical Framework\\Fairpy (LLM)\\.venv\\lib\\site-packages\\keras\\src\\losses.py:2976: The name tf.losses.sparse_softmax_cross_entropy is deprecated. Please use tf.compat.v1.losses.sparse_softmax_cross_entropy instead.\n",
      "\n"
     ]
    },
    {
     "name": "stderr",
     "output_type": "stream",
     "text": [
      "usage: ipykernel_launcher.py [-h]\n",
      "                             [--pretrained-class {bert-base-uncased,bert-base-cased,bert-large-uncased-whole-word-masking,bert-large-uncased,bert-large-cased,gpt2,gpt2-medium,gpt2-large,roberta-base,roberta-large,xlnet-base-cased,xlnet-large-cased}]\n",
      "                             [--no-cuda] [--input-file INPUT_FILE]\n",
      "                             [--output-dir OUTPUT_DIR]\n",
      "                             [--output-file OUTPUT_FILE]\n",
      "                             [--skip-intrasentence]\n",
      "                             [--intrasentence-model {BertLM,BertNextSentence,RoBERTaLM,XLNetLM,XLMLM,GPT2LM,ModelNSP}]\n",
      "                             [--intrasentence-load-path INTRASENTENCE_LOAD_PATH]\n",
      "                             [--skip-intersentence]\n",
      "                             [--intersentence-model {BertLM,BertNextSentence,RoBERTaLM,XLNetLM,XLMLM,GPT2LM,ModelNSP}]\n",
      "                             [--intersentence-load-path INTERSENTENCE_LOAD_PATH]\n",
      "                             [--tokenizer {RobertaTokenizer,BertTokenizer,XLNetTokenizer}]\n",
      "                             [--batch-size BATCH_SIZE]\n",
      "                             [--max-seq-length MAX_SEQ_LENGTH]\n",
      "ipykernel_launcher.py: error: unrecognized arguments: --f=\"c:\\Users\\Dai Kejun\\AppData\\Roaming\\jupyter\\runtime\\kernel-v2-18080jXkh0hyH06ha.json\"\n"
     ]
    },
    {
     "ename": "SystemExit",
     "evalue": "2",
     "output_type": "error",
     "traceback": [
      "An exception has occurred, use %tb to see the full traceback.\n",
      "\u001b[1;31mSystemExit\u001b[0m\u001b[1;31m:\u001b[0m 2\n"
     ]
    },
    {
     "name": "stderr",
     "output_type": "stream",
     "text": [
      "d:\\Home\\Documents\\Research\\Ethical Framework\\Fairpy (LLM)\\.venv\\lib\\site-packages\\IPython\\core\\interactiveshell.py:3558: UserWarning: To exit: use 'exit', 'quit', or Ctrl-D.\n",
      "  warn(\"To exit: use 'exit', 'quit', or Ctrl-D.\", stacklevel=1)\n"
     ]
    }
   ],
   "source": [
    "from BiasDetection import BiasDetectionMetrics\n",
    "maskedObj = BiasDetectionMetrics.MaskedLMBiasDetection(model_class = 'bert-base-uncased')\n",
    "maskedObj.WeatScore(bias_type='health')"
   ]
  }
 ],
 "metadata": {
  "kernelspec": {
   "display_name": "venv",
   "language": "python",
   "name": "python3"
  },
  "language_info": {
   "codemirror_mode": {
    "name": "ipython",
    "version": 3
   },
   "file_extension": ".py",
   "mimetype": "text/x-python",
   "name": "python",
   "nbconvert_exporter": "python",
   "pygments_lexer": "ipython3",
   "version": "3.10.11"
  }
 },
 "nbformat": 4,
 "nbformat_minor": 2
}
