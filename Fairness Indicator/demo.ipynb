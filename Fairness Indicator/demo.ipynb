{
 "cells": [
  {
   "cell_type": "code",
   "execution_count": 1,
   "metadata": {},
   "outputs": [],
   "source": [
    "import tensorflow_model_analysis as tfma\n",
    "import tensorflow_data_validation as tfdv\n",
    "\n",
    "from google.protobuf import text_format\n",
    "\n",
    "from ucimlrepo import fetch_ucirepo\n",
    "import os\n",
    "import numpy as np\n",
    "import pandas as pd"
   ]
  },
  {
   "cell_type": "code",
   "execution_count": 2,
   "metadata": {},
   "outputs": [],
   "source": [
    "raw_df=fetch_ucirepo(id=2).data.original"
   ]
  },
  {
   "cell_type": "code",
   "execution_count": 3,
   "metadata": {},
   "outputs": [],
   "source": [
    "df=raw_df.copy()\n",
    "df[\"income\"]=df[\"income\"].replace(['<=50K.','>50K.'],['<=50K','>50K'])\n",
    "df=df.replace(['?'],[np.nan])"
   ]
  },
  {
   "cell_type": "code",
   "execution_count": 4,
   "metadata": {},
   "outputs": [
    {
     "data": {
      "text/html": [
       "<iframe id='facets-iframe' width=\"100%\" height=\"500px\"></iframe>\n",
       "        <script>\n",
       "        facets_iframe = document.getElementById('facets-iframe');\n",
       "        facets_html = '<script src=\"https://cdnjs.cloudflare.com/ajax/libs/webcomponentsjs/1.3.3/webcomponents-lite.js\"><\\/script><link rel=\"import\" href=\"https://raw.githubusercontent.com/PAIR-code/facets/master/facets-dist/facets-jupyter.html\"><facets-overview proto-input=\"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\"></facets-overview>';\n",
       "        facets_iframe.srcdoc = facets_html;\n",
       "         facets_iframe.id = \"\";\n",
       "         setTimeout(() => {\n",
       "           facets_iframe.setAttribute('height', facets_iframe.contentWindow.document.body.offsetHeight + 'px')\n",
       "         }, 1500)\n",
       "         </script>"
      ],
      "text/plain": [
       "<IPython.core.display.HTML object>"
      ]
     },
     "metadata": {},
     "output_type": "display_data"
    }
   ],
   "source": [
    "stats = tfdv.generate_statistics_from_dataframe(df)\n",
    "tfdv.visualize_statistics(stats)"
   ]
  },
  {
   "cell_type": "markdown",
   "metadata": {},
   "source": [
    "From tensorflow data validation, we can see the more than 90% of feature **capital-gain** and **capital-loss** are 0. It can be safely assumed that they are redundant features and can be ignored during training process "
   ]
  },
  {
   "cell_type": "code",
   "execution_count": 5,
   "metadata": {},
   "outputs": [],
   "source": [
    "df=df.drop([\"capital-gain\",\"capital-loss\"],axis=1)"
   ]
  },
  {
   "cell_type": "code",
   "execution_count": 6,
   "metadata": {},
   "outputs": [],
   "source": [
    "numeric_feautre_names=df.select_dtypes(include=[\"number\"]).columns\n",
    "categorical_feature_names=df.select_dtypes(include=[\"object_\"]).columns"
   ]
  },
  {
   "cell_type": "code",
   "execution_count": 7,
   "metadata": {},
   "outputs": [],
   "source": [
    "pre_df=df.copy()\n",
    "\n",
    "def min_max_noramlize(column):\n",
    "    return (column-column.min())/(column.max()-column.min())\n",
    "\n",
    "for nc in numeric_feautre_names:\n",
    "    pre_df[nc]=min_max_noramlize(pre_df[nc])    "
   ]
  },
  {
   "cell_type": "code",
   "execution_count": 8,
   "metadata": {},
   "outputs": [],
   "source": [
    "for cc in categorical_feature_names:\n",
    "    pre_df[cc]=pd.factorize(pre_df[cc])[0]"
   ]
  },
  {
   "cell_type": "code",
   "execution_count": 9,
   "metadata": {},
   "outputs": [],
   "source": [
    "from sklearn.model_selection import train_test_split\n",
    "\n",
    "train, test = train_test_split(pre_df, test_size=0.2)"
   ]
  },
  {
   "cell_type": "code",
   "execution_count": 10,
   "metadata": {},
   "outputs": [
    {
     "data": {
      "text/plain": [
       "RandomForestClassifier()"
      ]
     },
     "execution_count": 10,
     "metadata": {},
     "output_type": "execute_result"
    }
   ],
   "source": [
    "from sklearn.ensemble import RandomForestClassifier\n",
    "\n",
    "classifer=RandomForestClassifier()\n",
    "classifer.fit(train.loc[:,train.columns!=\"income\"],train[\"income\"])"
   ]
  },
  {
   "cell_type": "code",
   "execution_count": 11,
   "metadata": {},
   "outputs": [],
   "source": [
    "pred=pd.Series(classifer.predict(test.loc[:,test.columns!=\"income\"]),index=test.index,name=\"pred\")"
   ]
  },
  {
   "cell_type": "code",
   "execution_count": 12,
   "metadata": {},
   "outputs": [],
   "source": [
    "result=pd.concat([df.loc[test.index,[\"sex\"]],test[\"income\"],pred],axis=1)\n",
    "result.columns=[\"gender\",\"label\",\"prediction\"]"
   ]
  },
  {
   "cell_type": "code",
   "execution_count": 13,
   "metadata": {},
   "outputs": [
    {
     "data": {
      "text/html": [
       "<div>\n",
       "<style scoped>\n",
       "    .dataframe tbody tr th:only-of-type {\n",
       "        vertical-align: middle;\n",
       "    }\n",
       "\n",
       "    .dataframe tbody tr th {\n",
       "        vertical-align: top;\n",
       "    }\n",
       "\n",
       "    .dataframe thead th {\n",
       "        text-align: right;\n",
       "    }\n",
       "</style>\n",
       "<table border=\"1\" class=\"dataframe\">\n",
       "  <thead>\n",
       "    <tr style=\"text-align: right;\">\n",
       "      <th></th>\n",
       "      <th>gender</th>\n",
       "      <th>label</th>\n",
       "      <th>prediction</th>\n",
       "    </tr>\n",
       "  </thead>\n",
       "  <tbody>\n",
       "    <tr>\n",
       "      <th>18056</th>\n",
       "      <td>Male</td>\n",
       "      <td>0</td>\n",
       "      <td>0</td>\n",
       "    </tr>\n",
       "    <tr>\n",
       "      <th>35318</th>\n",
       "      <td>Male</td>\n",
       "      <td>1</td>\n",
       "      <td>1</td>\n",
       "    </tr>\n",
       "    <tr>\n",
       "      <th>26925</th>\n",
       "      <td>Male</td>\n",
       "      <td>0</td>\n",
       "      <td>0</td>\n",
       "    </tr>\n",
       "    <tr>\n",
       "      <th>40178</th>\n",
       "      <td>Female</td>\n",
       "      <td>0</td>\n",
       "      <td>0</td>\n",
       "    </tr>\n",
       "    <tr>\n",
       "      <th>30326</th>\n",
       "      <td>Male</td>\n",
       "      <td>0</td>\n",
       "      <td>1</td>\n",
       "    </tr>\n",
       "    <tr>\n",
       "      <th>...</th>\n",
       "      <td>...</td>\n",
       "      <td>...</td>\n",
       "      <td>...</td>\n",
       "    </tr>\n",
       "    <tr>\n",
       "      <th>36348</th>\n",
       "      <td>Male</td>\n",
       "      <td>0</td>\n",
       "      <td>0</td>\n",
       "    </tr>\n",
       "    <tr>\n",
       "      <th>17083</th>\n",
       "      <td>Female</td>\n",
       "      <td>0</td>\n",
       "      <td>0</td>\n",
       "    </tr>\n",
       "    <tr>\n",
       "      <th>26175</th>\n",
       "      <td>Male</td>\n",
       "      <td>0</td>\n",
       "      <td>0</td>\n",
       "    </tr>\n",
       "    <tr>\n",
       "      <th>16425</th>\n",
       "      <td>Female</td>\n",
       "      <td>0</td>\n",
       "      <td>0</td>\n",
       "    </tr>\n",
       "    <tr>\n",
       "      <th>45364</th>\n",
       "      <td>Male</td>\n",
       "      <td>0</td>\n",
       "      <td>0</td>\n",
       "    </tr>\n",
       "  </tbody>\n",
       "</table>\n",
       "<p>9769 rows × 3 columns</p>\n",
       "</div>"
      ],
      "text/plain": [
       "       gender  label  prediction\n",
       "18056    Male      0           0\n",
       "35318    Male      1           1\n",
       "26925    Male      0           0\n",
       "40178  Female      0           0\n",
       "30326    Male      0           1\n",
       "...       ...    ...         ...\n",
       "36348    Male      0           0\n",
       "17083  Female      0           0\n",
       "26175    Male      0           0\n",
       "16425  Female      0           0\n",
       "45364    Male      0           0\n",
       "\n",
       "[9769 rows x 3 columns]"
      ]
     },
     "execution_count": 13,
     "metadata": {},
     "output_type": "execute_result"
    }
   ],
   "source": [
    "result"
   ]
  },
  {
   "cell_type": "code",
   "execution_count": 14,
   "metadata": {},
   "outputs": [
    {
     "data": {
      "text/plain": [
       "'c:\\\\Users\\\\15783\\\\source\\\\repos\\\\Ethical-Framework\\\\Fairness Indicator\\\\bin'"
      ]
     },
     "execution_count": 14,
     "metadata": {},
     "output_type": "execute_result"
    }
   ],
   "source": [
    "output=os.path.abspath(\"bin\")\n",
    "\n",
    "output"
   ]
  },
  {
   "cell_type": "code",
   "execution_count": 15,
   "metadata": {},
   "outputs": [],
   "source": [
    "file=open(\"eval.config\",\"r\")\n",
    "config=file.read()\n",
    "file.close()"
   ]
  },
  {
   "cell_type": "code",
   "execution_count": 16,
   "metadata": {},
   "outputs": [
    {
     "name": "stderr",
     "output_type": "stream",
     "text": [
      "WARNING:apache_beam.runners.interactive.interactive_environment:Dependencies required for Interactive Beam PCollection visualization are not available, please use: `pip install apache-beam[interactive]` to install necessary dependencies to enable all data visualization features.\n"
     ]
    },
    {
     "data": {
      "application/javascript": "\n        if (typeof window.interactive_beam_jquery == 'undefined') {\n          var jqueryScript = document.createElement('script');\n          jqueryScript.src = 'https://code.jquery.com/jquery-3.4.1.slim.min.js';\n          jqueryScript.type = 'text/javascript';\n          jqueryScript.onload = function() {\n            var datatableScript = document.createElement('script');\n            datatableScript.src = 'https://cdn.datatables.net/1.10.20/js/jquery.dataTables.min.js';\n            datatableScript.type = 'text/javascript';\n            datatableScript.onload = function() {\n              window.interactive_beam_jquery = jQuery.noConflict(true);\n              window.interactive_beam_jquery(document).ready(function($){\n                \n              });\n            }\n            document.head.appendChild(datatableScript);\n          };\n          document.head.appendChild(jqueryScript);\n        } else {\n          window.interactive_beam_jquery(document).ready(function($){\n            \n          });\n        }"
     },
     "metadata": {},
     "output_type": "display_data"
    },
    {
     "name": "stderr",
     "output_type": "stream",
     "text": [
      "WARNING:apache_beam.io.tfrecordio:Couldn't find python-snappy so the implementation of _TFRecordUtil._masked_crc32c is not as fast as it could be.\n"
     ]
    },
    {
     "name": "stdout",
     "output_type": "stream",
     "text": [
      "WARNING:tensorflow:From c:\\Users\\15783\\source\\repos\\Ethical-Framework\\Fairness Indicator\\.venv\\lib\\site-packages\\tensorflow_model_analysis\\writers\\metrics_plots_and_validations_writer.py:110: tf_record_iterator (from tensorflow.python.lib.io.tf_record) is deprecated and will be removed in a future version.\n",
      "Instructions for updating:\n",
      "Use eager execution and: \n",
      "`tf.data.TFRecordDataset(path)`\n"
     ]
    },
    {
     "name": "stderr",
     "output_type": "stream",
     "text": [
      "WARNING:tensorflow:From c:\\Users\\15783\\source\\repos\\Ethical-Framework\\Fairness Indicator\\.venv\\lib\\site-packages\\tensorflow_model_analysis\\writers\\metrics_plots_and_validations_writer.py:110: tf_record_iterator (from tensorflow.python.lib.io.tf_record) is deprecated and will be removed in a future version.\n",
      "Instructions for updating:\n",
      "Use eager execution and: \n",
      "`tf.data.TFRecordDataset(path)`\n"
     ]
    }
   ],
   "source": [
    "import shutil\n",
    "\n",
    "\n",
    "# Specify Fairness Indicators in eval_config.\n",
    "eval_config = text_format.Parse(config, tfma.EvalConfig())\n",
    "\n",
    "# Run TensorFlow Model Analysis.\n",
    "try:\n",
    "  shutil.rmtree(output)\n",
    "except OSError:\n",
    "  pass\n",
    "eval_result = tfma.analyze_raw_data(\n",
    "  data=result,\n",
    "  eval_config=eval_config,\n",
    "  output_path=output)\n"
   ]
  },
  {
   "cell_type": "code",
   "execution_count": 17,
   "metadata": {},
   "outputs": [
    {
     "data": {
      "application/vnd.jupyter.widget-view+json": {
       "model_id": "37178510c560418c84fd783fec686755",
       "version_major": 2,
       "version_minor": 0
      },
      "text/plain": [
       "FairnessIndicatorViewer(slicingMetrics=[{'sliceValue': 'Male', 'slice': 'gender:Male', 'metrics': {'accuracy':…"
      ]
     },
     "metadata": {},
     "output_type": "display_data"
    }
   ],
   "source": [
    "tfma.addons.fairness.view.widget_view.render_fairness_indicator(eval_result)"
   ]
  },
  {
   "cell_type": "code",
   "execution_count": 18,
   "metadata": {},
   "outputs": [],
   "source": [
    "column=[]\n",
    "rows=[]\n",
    "index=[]\n",
    "for sn in eval_result.get_slice_names():\n",
    "    if \"Male\" in str(sn):\n",
    "        index.append(\"male\")\n",
    "    else:\n",
    "        index.append(\"female\")\n",
    "    row=[]\n",
    "    for key,item in eval_result.get_metrics_for_slice(sn).items():\n",
    "        if key==\"example_count\":\n",
    "            continue\n",
    "        key=key.replace(\"fairness_indicators_metrics/\",\"\")\n",
    "        key=key.replace(\"@0.5\",\"\")\n",
    "        if key not in column:\n",
    "            column.append(key)\n",
    "        row.append(item[\"doubleValue\"])\n",
    "    rows.append(row)\n",
    "\n",
    "FI_result=pd.DataFrame(rows,columns=column,index=index)"
   ]
  },
  {
   "cell_type": "code",
   "execution_count": 19,
   "metadata": {},
   "outputs": [
    {
     "data": {
      "text/html": [
       "<div>\n",
       "<style scoped>\n",
       "    .dataframe tbody tr th:only-of-type {\n",
       "        vertical-align: middle;\n",
       "    }\n",
       "\n",
       "    .dataframe tbody tr th {\n",
       "        vertical-align: top;\n",
       "    }\n",
       "\n",
       "    .dataframe thead th {\n",
       "        text-align: right;\n",
       "    }\n",
       "</style>\n",
       "<table border=\"1\" class=\"dataframe\">\n",
       "  <thead>\n",
       "    <tr style=\"text-align: right;\">\n",
       "      <th></th>\n",
       "      <th>accuracy</th>\n",
       "      <th>false_positive_rate</th>\n",
       "      <th>false_negative_rate</th>\n",
       "      <th>true_positive_rate</th>\n",
       "      <th>true_negative_rate</th>\n",
       "      <th>positive_rate</th>\n",
       "      <th>negative_rate</th>\n",
       "      <th>false_discovery_rate</th>\n",
       "      <th>false_omission_rate</th>\n",
       "      <th>precision</th>\n",
       "      <th>recall</th>\n",
       "    </tr>\n",
       "  </thead>\n",
       "  <tbody>\n",
       "    <tr>\n",
       "      <th>male</th>\n",
       "      <td>0.785281</td>\n",
       "      <td>0.129501</td>\n",
       "      <td>0.413131</td>\n",
       "      <td>0.586869</td>\n",
       "      <td>0.870499</td>\n",
       "      <td>0.266920</td>\n",
       "      <td>0.733080</td>\n",
       "      <td>0.339397</td>\n",
       "      <td>0.169323</td>\n",
       "      <td>0.660603</td>\n",
       "      <td>0.586869</td>\n",
       "    </tr>\n",
       "    <tr>\n",
       "      <th>female</th>\n",
       "      <td>0.910349</td>\n",
       "      <td>0.028612</td>\n",
       "      <td>0.535248</td>\n",
       "      <td>0.464752</td>\n",
       "      <td>0.971388</td>\n",
       "      <td>0.081158</td>\n",
       "      <td>0.918842</td>\n",
       "      <td>0.310078</td>\n",
       "      <td>0.070181</td>\n",
       "      <td>0.689922</td>\n",
       "      <td>0.464752</td>\n",
       "    </tr>\n",
       "  </tbody>\n",
       "</table>\n",
       "</div>"
      ],
      "text/plain": [
       "        accuracy  false_positive_rate  false_negative_rate  \\\n",
       "male    0.785281             0.129501             0.413131   \n",
       "female  0.910349             0.028612             0.535248   \n",
       "\n",
       "        true_positive_rate  true_negative_rate  positive_rate  negative_rate  \\\n",
       "male              0.586869            0.870499       0.266920       0.733080   \n",
       "female            0.464752            0.971388       0.081158       0.918842   \n",
       "\n",
       "        false_discovery_rate  false_omission_rate  precision    recall  \n",
       "male                0.339397             0.169323   0.660603  0.586869  \n",
       "female              0.310078             0.070181   0.689922  0.464752  "
      ]
     },
     "execution_count": 19,
     "metadata": {},
     "output_type": "execute_result"
    }
   ],
   "source": [
    "FI_result"
   ]
  },
  {
   "cell_type": "code",
   "execution_count": 20,
   "metadata": {},
   "outputs": [],
   "source": [
    "FI_difference=FI_result.loc[\"male\"]-FI_result.loc[\"female\"]\n",
    "\n",
    "final_result=pd.DataFrame([FI_difference],columns=column,index=[\"Random Forest\"])\n",
    "final_result.columns.name=\"Adult\""
   ]
  },
  {
   "cell_type": "code",
   "execution_count": 21,
   "metadata": {},
   "outputs": [
    {
     "data": {
      "text/html": [
       "<div>\n",
       "<style scoped>\n",
       "    .dataframe tbody tr th:only-of-type {\n",
       "        vertical-align: middle;\n",
       "    }\n",
       "\n",
       "    .dataframe tbody tr th {\n",
       "        vertical-align: top;\n",
       "    }\n",
       "\n",
       "    .dataframe thead th {\n",
       "        text-align: right;\n",
       "    }\n",
       "</style>\n",
       "<table border=\"1\" class=\"dataframe\">\n",
       "  <thead>\n",
       "    <tr style=\"text-align: right;\">\n",
       "      <th>Adult</th>\n",
       "      <th>accuracy</th>\n",
       "      <th>false_positive_rate</th>\n",
       "      <th>false_negative_rate</th>\n",
       "      <th>true_positive_rate</th>\n",
       "      <th>true_negative_rate</th>\n",
       "      <th>positive_rate</th>\n",
       "      <th>negative_rate</th>\n",
       "      <th>false_discovery_rate</th>\n",
       "      <th>false_omission_rate</th>\n",
       "      <th>precision</th>\n",
       "      <th>recall</th>\n",
       "    </tr>\n",
       "  </thead>\n",
       "  <tbody>\n",
       "    <tr>\n",
       "      <th>Random Forest</th>\n",
       "      <td>-0.125068</td>\n",
       "      <td>0.100889</td>\n",
       "      <td>-0.122117</td>\n",
       "      <td>0.122117</td>\n",
       "      <td>-0.100889</td>\n",
       "      <td>0.185762</td>\n",
       "      <td>-0.185762</td>\n",
       "      <td>0.02932</td>\n",
       "      <td>0.099142</td>\n",
       "      <td>-0.02932</td>\n",
       "      <td>0.122117</td>\n",
       "    </tr>\n",
       "  </tbody>\n",
       "</table>\n",
       "</div>"
      ],
      "text/plain": [
       "Adult          accuracy  false_positive_rate  false_negative_rate  \\\n",
       "Random Forest -0.125068             0.100889            -0.122117   \n",
       "\n",
       "Adult          true_positive_rate  true_negative_rate  positive_rate  \\\n",
       "Random Forest            0.122117           -0.100889       0.185762   \n",
       "\n",
       "Adult          negative_rate  false_discovery_rate  false_omission_rate  \\\n",
       "Random Forest      -0.185762               0.02932             0.099142   \n",
       "\n",
       "Adult          precision    recall  \n",
       "Random Forest   -0.02932  0.122117  "
      ]
     },
     "execution_count": 21,
     "metadata": {},
     "output_type": "execute_result"
    }
   ],
   "source": [
    "final_result"
   ]
  }
 ],
 "metadata": {
  "kernelspec": {
   "display_name": ".venv",
   "language": "python",
   "name": "python3"
  },
  "language_info": {
   "codemirror_mode": {
    "name": "ipython",
    "version": 3
   },
   "file_extension": ".py",
   "mimetype": "text/x-python",
   "name": "python",
   "nbconvert_exporter": "python",
   "pygments_lexer": "ipython3",
   "version": "3.8.10"
  }
 },
 "nbformat": 4,
 "nbformat_minor": 2
}
